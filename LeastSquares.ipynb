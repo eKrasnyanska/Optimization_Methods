{
  "nbformat": 4,
  "nbformat_minor": 0,
  "metadata": {
    "kernelspec": {
      "display_name": "Python",
      "language": "python",
      "name": "conda-env-python-py"
    },
    "language_info": {
      "codemirror_mode": {
        "name": "ipython",
        "version": 3
      },
      "file_extension": ".py",
      "mimetype": "text/x-python",
      "name": "python",
      "nbconvert_exporter": "python",
      "pygments_lexer": "ipython3",
      "version": "3.6.10"
    },
    "colab": {
      "name": "LeastSquares.ipynb",
      "provenance": [],
      "collapsed_sections": [],
      "toc_visible": true
    }
  },
  "cells": [
    {
      "cell_type": "markdown",
      "metadata": {
        "id": "vdaqf6vgTTg4"
      },
      "source": [
        "<left>\n",
        "    <img src=\"https://kpi.ua/files/images/kpi.png\" width=\"300\" alt=\"kpi logo\"  />\n",
        "</left>"
      ]
    },
    {
      "cell_type": "markdown",
      "metadata": {
        "id": "y2VgPk2mTThF"
      },
      "source": [
        "\n",
        "# **Курсова робота на тему \"Метод найменших квадратів\"**\n",
        "# Краснянської Єлизавети, групи КМ-83"
      ]
    },
    {
      "cell_type": "markdown",
      "metadata": {
        "id": "jkRBtAnQTThK"
      },
      "source": [
        "***Постановка завдання курсової роботи***"
      ]
    },
    {
      "cell_type": "markdown",
      "metadata": {
        "id": "fOR86Qq7NbBx"
      },
      "source": [
        "*Дослідити збіжність методу найменших квадратів Гауса-Ньютона при мінімізації функції Розенброка в залежності від*:\n",
        "1.   величини кроку h при обчисленні похідних;\n",
        "2.   модифікації Левенберга-Марквардта;\n",
        "3.   схеми обчислення похідних;\n",
        "4.   вигляду критерію закінчення."
      ]
    },
    {
      "cell_type": "markdown",
      "metadata": {
        "id": "NebvzxBJOvWy"
      },
      "source": [
        "*Використати метод штрафних функцій (метод зовнішньої точки) для умовної оптимізації в залежності від*:\n",
        "1.   розташування локального мінімума (всередині/поза допустимою областю);\n",
        "2.   виду допустимої області (випукла/невипукла)."
      ]
    },
    {
      "cell_type": "markdown",
      "metadata": {
        "id": "CHwOXFUpTThK"
      },
      "source": [
        "## Зміст"
      ]
    },
    {
      "cell_type": "markdown",
      "metadata": {
        "id": "bHSc4iksTThP"
      },
      "source": [
        "* Анотація \n",
        "* Вступ \n",
        "* Вирішення поставленої задачі\n",
        "  * Імпортування бібліотек\n",
        "  * Визначення констант\n",
        "  * Опис функцій\n",
        "  * Обчислення\n",
        "  * Відображення результатів  \n",
        "* Висновки \n",
        "* Про виконавця\n",
        "* Посилання\n",
        "\n"
      ]
    },
    {
      "cell_type": "markdown",
      "metadata": {
        "id": "G46n-9a6AOld"
      },
      "source": [
        "## Анотація"
      ]
    },
    {
      "cell_type": "markdown",
      "metadata": {
        "id": "Uz8Hl08oXcOU"
      },
      "source": [
        "***Дана курсова робота направлена на дослідницьку діяльність в області дисципліни \"Методи оптимізації\", а саме - дослідження збіжності методу найменших квадратів.***\n"
      ]
    },
    {
      "cell_type": "markdown",
      "metadata": {
        "id": "Lr5r-LzrpY9G"
      },
      "source": [
        "*Перша частина курсової роботи* полягає в дослідженні збіжності методу найменших квадратів Гауса-Ньютона, при цьому в якості тестової функції для мінімізації обрано функцію Розенброка:\n",
        "$$ f(\\overline x) = (1 - x_1)^2 + 100(x_2 - x_1^2)^2 $$"
      ]
    },
    {
      "cell_type": "markdown",
      "metadata": {
        "id": "yBT6BGptuQmm"
      },
      "source": [
        "Дана функція має мінімум в точці $\\overline x = \n",
        "\\begin{pmatrix}\n",
        "  1 \\\\\n",
        "  1\n",
        " \\end{pmatrix}$ в якій значення функції $ f(\\overline x) = 0 $."
      ]
    },
    {
      "cell_type": "markdown",
      "metadata": {
        "id": "8uNfhCGuqUZH"
      },
      "source": [
        "Слід додати трохи інформації щодо методу найменших квадратів Гауса-Ньютона. Даний метод є модифікацією методу Ньютона для знаходження мінімума функції. На відміну від методу Ньютона, алгоритм Гауса-Ньютона може бути використаний тільки для мінімізації суми квадратів: \n",
        "$$ F(x) = \\displaystyle\\sum_{i=1}^{m} (f_i(x))^2 = \\|f(x)\\|^2 $$"
      ]
    },
    {
      "cell_type": "markdown",
      "metadata": {
        "id": "BCzXquqJryi1"
      },
      "source": [
        "Перевага даного методу перед методом Ньютона в тому, що він не вимагає обчислення других похідних, а також обчислення та обернення матриці Гессе на кожній ітерації, що значно полегшує процес мінімізації функції. При цьому швидкість збіжності МНК Гауса-Ньютона також може досягати квадратичної."
      ]
    },
    {
      "cell_type": "markdown",
      "metadata": {
        "id": "7ErWQkc1vzfI"
      },
      "source": [
        "Додаткова умова, при виконанні якої можна застосовувати даний метод, - це умова, що кількість змінних $\\overline x = (x_1, x_2, ..., x_n)$ не перевищує кількість функцій $f = (f_1, f_2, ..., f_m)$, тобто $ m \\geq n $."
      ]
    },
    {
      "cell_type": "markdown",
      "metadata": {
        "id": "ATFgRE3vxgfI"
      },
      "source": [
        "Таким чином, почавши з деякої початкової точки $x^{(0)}$ метод виконує наближення до точки мінімума на кожній наступній ітерації. Даний процес виконується за нижченаведеною формулою: $$ x^{(k+1)} = x^{(k)} - (J^T(x^{(k)}) J(x^{(k)}))^{-1}J^T(x^{(k)})f(x^{(k)}) $$"
      ]
    },
    {
      "cell_type": "markdown",
      "metadata": {
        "id": "8wGB7lpepgtf"
      },
      "source": [
        "*Другою частиною курсової роботи* є застосування методу зовнішньої точки для умовної оптимізації. В цьому випадку також виконується мінімізація функції Розенброка."
      ]
    },
    {
      "cell_type": "markdown",
      "metadata": {
        "id": "KbStD5vV1DAI"
      },
      "source": [
        "Суть даного методу полягає в тому, що задачу умовної оптимізації потрібно звести до вирішення послідовності задач безумовної оптимізації. "
      ]
    },
    {
      "cell_type": "markdown",
      "metadata": {
        "id": "K5p65BEQ2u0S"
      },
      "source": [
        "Такі задачі будуть набувати наступного загального вигляду:\n",
        "$$ P(\\overline x) = f(\\overline x) + R \\langle g(\\overline x) \\rangle^2 $$ де штрафний параметр $ R \\longrightarrow \\infty $."
      ]
    },
    {
      "cell_type": "markdown",
      "metadata": {
        "id": "dDW0ekGe53P_"
      },
      "source": [
        "Як видно з попередньої формули, в даному методі використовується зовнішній штраф типу квадрату зрізання. Він інтерпритується наступним чином:\n",
        "$$ \\langle \\alpha \\rangle = \n",
        "\\begin{cases}\n",
        "    \\alpha, \\alpha < 0 \\\\\n",
        "    0,\\alpha \\geq 0\n",
        "\\end{cases} $$"
      ]
    },
    {
      "cell_type": "markdown",
      "metadata": {
        "id": "FvGdLEP57sIw"
      },
      "source": [
        "В даному випадку, кожна задача з послідовності задач безумовної оптимізації буде вирішуватися вже вище описаним методом найменших квадратів Гауса-Ньютона."
      ]
    },
    {
      "cell_type": "markdown",
      "metadata": {
        "id": "cIeKehp_plps"
      },
      "source": [
        "Треба зазначити, що і в першій, і в другій частині курсової роботи дослідження проводяться в залежності від зміни певних параметрів та попарних комбінацій цих параметрів, що допомагає простежити характер збіжності методу за різних умов."
      ]
    },
    {
      "cell_type": "markdown",
      "metadata": {
        "id": "jMUKBzRtATok"
      },
      "source": [
        "## Вступ \n"
      ]
    },
    {
      "cell_type": "markdown",
      "metadata": {
        "id": "HsJ6Skb2Fczu"
      },
      "source": [
        "***Головним завданням даної курсової роботи*** є дослідження збіжності методу найменших квадратів, суть якого було описано в попередньому підрозділі, в залежності від певних умов, таких як величина кроку h при обчисленні похідних, модифікація Левенберга-Марквардта, вибір схеми обчислення похідних та вигляд критерію закінчення."
      ]
    },
    {
      "cell_type": "markdown",
      "metadata": {
        "id": "OWGBNc4N_5WY"
      },
      "source": [
        "***Найочевидніша складність в виконанні даної курсової роботи*** полягає у тому, *що усі компоненти досліджуваних методів повинні реалізовуватися чисельно*. Це стосується у першу чергу знаходження похідних (наприклад, для утворення Якобіана або ж для знаходження градієнту функції). *Цей процес дещо ускладнює написання програмного забезпечення до даної курсової роботи*."
      ]
    },
    {
      "cell_type": "markdown",
      "metadata": {
        "id": "Pt8SPlysBAah"
      },
      "source": [
        "***Наступна складність, яку можна виділити***, - *підбір параметрів у методах, що досліджуються в даній курсовій роботі*. Суть в тому, що заздалегідь не можна передбачити, які значення параметрів доцільніше обрати. Доводиться підбирати їх у ручному режимі."
      ]
    },
    {
      "cell_type": "markdown",
      "metadata": {
        "id": "LMWT9A5EByPi"
      },
      "source": [
        "***Мета, якої хочеться досягти під час виконання даної курсової роботи***, - *це якнайшвидша збіжність методу в поєднанні з достатньо високою точністю знайденої точки мінімума*. Бажано під час дослідження прослідкувати від чого залежить підвищення швидкості збіжності методу."
      ]
    },
    {
      "cell_type": "markdown",
      "metadata": {
        "id": "NNm4GtIYBQDs"
      },
      "source": [
        "## Вирішення поставленої задачі\n"
      ]
    },
    {
      "cell_type": "markdown",
      "metadata": {
        "id": "xS8UOiQOTThR"
      },
      "source": [
        "### Імпортування бібліотек"
      ]
    },
    {
      "cell_type": "code",
      "metadata": {
        "id": "jdVcijxmTTha"
      },
      "source": [
        "import numpy as np\n",
        "from math import sqrt\n",
        "import plotly.graph_objects as go\n",
        "import matplotlib.pyplot as plt\n",
        "%matplotlib inline\n",
        "plt.style.use('ggplot')"
      ],
      "execution_count": 1,
      "outputs": []
    },
    {
      "cell_type": "markdown",
      "metadata": {
        "id": "SbmrZguMTThd"
      },
      "source": [
        "### Визначення констант"
      ]
    },
    {
      "cell_type": "markdown",
      "metadata": {
        "id": "1AQnH2jPZebu"
      },
      "source": [
        "Нижче наведено константі значення, які використано для вирішення задачі безумної оптимізації даної курсової роботи:"
      ]
    },
    {
      "cell_type": "code",
      "metadata": {
        "id": "sQDRkQFLCOu0"
      },
      "source": [
        "x0 = np.array([-1.2, 0.0]) # початкова точка\n",
        "h1 = 0.0001  # крок для обчислення похідних\n",
        "h2 = 0.00001\n",
        "h3 = 0.000001\n",
        "itr = 600  # фіксована кількість ітерацій обчислень\n",
        "eps_fix = 0.001  # фіксована точність\n",
        "eps_fix2 = 0.0001\n",
        "eps_lst = [0.1, 0.01, 0.001, 0.0001, 0.00001] # набір значень е для побудови діаграми\n",
        "lambda_fix = 1000  # початкове значення лямбда \n",
        "Jr = np.zeros((2,2), dtype=float)  # порожній масив 2х2, основа для матриці Якобі, де обчислення похідних за правою схемою \n",
        "Jc = np.zeros((2,2), dtype=float)  # порожній масив 2х2, основа для матриці Якобі, де обчислення похідних за центральною схемою"
      ],
      "execution_count": 2,
      "outputs": []
    },
    {
      "cell_type": "markdown",
      "metadata": {
        "id": "bOqpNGY0a9Jm"
      },
      "source": [
        "Константі значення, які використано для вирішення задачі умовної оптимізації даної курсової роботи:"
      ]
    },
    {
      "cell_type": "code",
      "metadata": {
        "id": "XuiCfX3JuNcs"
      },
      "source": [
        "x0_2 = np.array([-2,-2])  # початкова точка\n",
        "Jrp = np.zeros((3,2), dtype=float)  # порожній масив 3х2, основа для матриці Якобі, де похідні обчислюються за правою схемою\n",
        "restr1 = 0  # обмеження №1, що представляє собою випуклу область; точка мінімума в допуст. області\n",
        "restr2 = 1  # обмеження №2, що представляє собою випуклу область; точка мінімума за допуст. областю\n",
        "restr3 = 2  # обмеження №3, що представляє собою невипуклу область; точка мінімума в допуст. області\n",
        "restr4 = 3  # обмеження №4, що представляє собою невипуклу область; точка мінімума за допуст. областю\n",
        "R = 1   # параметр для умовної оптимізації\n",
        "R2 = 10   # параметр для умовної оптимізації\n",
        "eps_fix3 = 0.01"
      ],
      "execution_count": 3,
      "outputs": []
    },
    {
      "cell_type": "markdown",
      "metadata": {
        "id": "zYRuHcdaTThe"
      },
      "source": [
        "### Опис функцій"
      ]
    },
    {
      "cell_type": "markdown",
      "metadata": {
        "id": "Rpv4AZapcdCu"
      },
      "source": [
        "**Нижче наведено функції** (rosenbrock(), roz_elem(), gen_J_rigth(), gen_J_center(), norm(), crit_end1(), crit_end2(), crit_count_eps_by_norm(), crit_count_eps_by_diff()), **які є допоміжними в реалізації вирішення задачі безумовної оптимізації, а саме в реалізації методу найменших квадратів Гауса-Ньютона.**\n"
      ]
    },
    {
      "cell_type": "markdown",
      "metadata": {
        "id": "wR5YGqXzdu76"
      },
      "source": [
        "*Метод найменших квадратів Гауса-Ньютона* https://ru.wikipedia.org/wiki/Алгоритм_Гаусса_—_Ньютона"
      ]
    },
    {
      "cell_type": "markdown",
      "metadata": {
        "id": "odJuOg-AerM0"
      },
      "source": [
        "Процесс дослідження збіжності методу виконується на функції Розенброка. Нижченаведена функція rosenbrock() повертає значення функції Розенброка в точці х, яка приймається як вхідний параметр:"
      ]
    },
    {
      "cell_type": "markdown",
      "metadata": {
        "id": "KYkONRNJgak7"
      },
      "source": [
        "*Трохи детальніше про функцію Розенброка за даним посиланням* https://ru.wikipedia.org/wiki/Функция_Розенброка "
      ]
    },
    {
      "cell_type": "code",
      "metadata": {
        "id": "quu9XyUOTThe"
      },
      "source": [
        "def rosenbrock(x):\n",
        "    return ((1-x[0])**2 + 100*(x[1] - x[0]**2)*(x[1] - x[0]**2))"
      ],
      "execution_count": 4,
      "outputs": []
    },
    {
      "cell_type": "markdown",
      "metadata": {
        "id": "6fIxsc9v0MVu"
      },
      "source": [
        "Наступна функція roz_elem(), яка приймає на вхід поточну точку х, представляє собою розкладання функції Розенброка на окремі функції, які в сумі дають функцію Розенброка. Повертає значення цих функцій у точці х:"
      ]
    },
    {
      "cell_type": "code",
      "metadata": {
        "id": "E2mgWwkY0JFp"
      },
      "source": [
        "def roz_elem(x):\n",
        "    return (1-x[0])**2, 100*(x[1] - x[0]**2)*(x[1] - x[0]**2)"
      ],
      "execution_count": 5,
      "outputs": []
    },
    {
      "cell_type": "markdown",
      "metadata": {
        "id": "Gb846Mpo0PfY"
      },
      "source": [
        "Функція gen_J_rigth(), яка формує Якобіан, з урахуванням заданої точки х та значення кроку h для обчислення похідних за правою схемою(вхідні параметри функції). Повертає обчислений Якобіан."
      ]
    },
    {
      "cell_type": "markdown",
      "metadata": {
        "id": "PDv6Jw1xGdh0"
      },
      "source": [
        "*Чисельне обчислення похідних за правою схемою*: $$f'_{пр} = \\frac{f(x+h) - f(x)}{h}$$"
      ]
    },
    {
      "cell_type": "code",
      "metadata": {
        "id": "AUNUn6Hg0P1p"
      },
      "source": [
        "def gen_J_rigth(x, h):\n",
        "    for i in range(2):\n",
        "        for j in range(2):\n",
        "            Jr[i][j] = (roz_elem((x[0]+((j+3)%2)*h, x[1]+((j+2)%2)*h))[i] - roz_elem(x)[i])/h\n",
        "    return Jr"
      ],
      "execution_count": 6,
      "outputs": []
    },
    {
      "cell_type": "markdown",
      "metadata": {
        "id": "gVTmA-gK0V4v"
      },
      "source": [
        "Функція gen_J_rigth(), яка формує Якобіан, з урахуванням заданої точки х та значення кроку h для обчислення похідних за центральною схемою(вхідні параметри функції). Дана функція повертає обчислений Якобіан. "
      ]
    },
    {
      "cell_type": "markdown",
      "metadata": {
        "id": "QrHGUEOVHqQ-"
      },
      "source": [
        "*Чисельне обчислення похідних за центральною схемою*: $$f'_{ц} = \\frac{f(x+h) - f(x-h)}{2h}$$"
      ]
    },
    {
      "cell_type": "code",
      "metadata": {
        "id": "YrgMO8780WH_"
      },
      "source": [
        "def gen_J_center(x, h):\n",
        "    for i in range(2):\n",
        "        for j in range(2):\n",
        "            Jc[i][j] = (roz_elem((x[0]+((j+3)%2)*h, x[1]+((j+2)%2)*h))[i] -\n",
        "                        roz_elem((x[0]-((j+3)%2)*h, x[1]-((j+2)%2)*h))[i])/(2*h)\n",
        "    return Jc"
      ],
      "execution_count": 7,
      "outputs": []
    },
    {
      "cell_type": "markdown",
      "metadata": {
        "id": "FXKkXiFB0ZI3"
      },
      "source": [
        "Функція norm() приймає на вхід точку х, яка представляє собою масив її координат. Дана функція повертає значення норми цієї точки х:"
      ]
    },
    {
      "cell_type": "markdown",
      "metadata": {
        "id": "2m_E8TQvr9re"
      },
      "source": [
        "$$\\|x\\| = \\sqrt{x_1^2 + x_2^2}$$"
      ]
    },
    {
      "cell_type": "code",
      "metadata": {
        "id": "OHWS5Ehk0ZU0"
      },
      "source": [
        "def norm(x):\n",
        "    return sqrt(x[0]**2 + x[1]**2)"
      ],
      "execution_count": 8,
      "outputs": []
    },
    {
      "cell_type": "markdown",
      "metadata": {
        "id": "a2D-KUKG0efA"
      },
      "source": [
        "Функція crit_end1() - функція, яка приймає на вхід поточну та попередню точки х, значення функції в цих двох точках, точність обчислення, якої прагнемо досягнути. Вона відповідає за перевірку критерію закінчення по відносній похибці:"
      ]
    },
    {
      "cell_type": "markdown",
      "metadata": {
        "id": "B1mwWoChIWyB"
      },
      "source": [
        "$$  \\begin{cases}\n",
        "    \\frac{\\|x^{(k-1)} - x^{(k)}\\|}{\\|x^{(k)}\\|} \\leq \\varepsilon \\\\     \n",
        "    \\frac{|f(x^{(k-1)}) - f(x^{(k)})|}{|f(x^{(k)})|} \\leq \\varepsilon\n",
        "  \\end{cases} $$"
      ]
    },
    {
      "cell_type": "code",
      "metadata": {
        "id": "OnLL6WVS0e_F"
      },
      "source": [
        "def crit_end1(*args):\n",
        "    p1,p2,Fp1,Fp2,eps = args\n",
        "    term1 = norm(p2-p1)/norm(p1)\n",
        "    term2 = abs(Fp2-Fp1)/abs(Fp1)\n",
        "    if (term1<=eps) and (term2<=eps):\n",
        "        # print(f'pogreshnost1: {term1}')\n",
        "        # print(f'pogreshnost2: {term2}')\n",
        "        return True\n",
        "    else:\n",
        "        # print(f'pogreshnost1: {term1}')\n",
        "        # print(f'pogreshnost2: {term2}')\n",
        "        return False"
      ],
      "execution_count": 9,
      "outputs": []
    },
    {
      "cell_type": "markdown",
      "metadata": {
        "id": "rdzj1oI_0nDz"
      },
      "source": [
        "Функція crit_end2() - функція, яка приймає на вхід поточну точку х, крок h, точність обчислення, якої прагнемо досягнути. Вона відповідає за перевірку наступного критерію закінчення:"
      ]
    },
    {
      "cell_type": "markdown",
      "metadata": {
        "id": "w9090rVTLRNk"
      },
      "source": [
        "$$ \\|\\nabla f(x^{(k)})\\| \\leq \\varepsilon $$"
      ]
    },
    {
      "cell_type": "code",
      "metadata": {
        "id": "dR2KU_b10nj7"
      },
      "source": [
        "def crit_end2(*args):\n",
        "    point, h, eps = args\n",
        "    grad = np.zeros((2))\n",
        "    grad[0] = (rosenbrock((point[0]+h, point[1])) - rosenbrock((point[0]-h, point[1])))/(2*h)\n",
        "    grad[1] = (rosenbrock((point[0], point[1]+h)) - rosenbrock((point[0], point[1]-h)))/(2*h)\n",
        "    if norm(grad) <= eps:\n",
        "        # print(f'pogreshnost: {norm(grad)}')\n",
        "        return True\n",
        "    else:\n",
        "        # print(f'pogreshnost: {norm(grad)}')\n",
        "        return False"
      ],
      "execution_count": 10,
      "outputs": []
    },
    {
      "cell_type": "markdown",
      "metadata": {
        "id": "QijuP_zM0q5j"
      },
      "source": [
        "Дані функції crit_count_eps_by_diff() та crit_count_eps_by_norm() майже аналогічні двум попереднім функціям, що представляють собою критерії закінчення, за своєю логікою. Єдина відмінність даних двох функцій від двох попередніх - відсутність заданої точності обчислення. По факту, в цих функціях просто обчислюється точність, яку отримано на конкретній ітерації, але при цьому відсутнє порівняння отриманої точності та заданої, оскільки задана точність відсутня. Ці функції знадобляться при побудові графіка, який демонструє збіжність МНК Гауса-Ньютона."
      ]
    },
    {
      "cell_type": "code",
      "metadata": {
        "id": "n6zTTrSv0rMq"
      },
      "source": [
        "def crit_count_eps_by_norm(point, h):\n",
        "    grad = np.zeros((2))\n",
        "    grad[0] = (rosenbrock((point[0]+h, point[1])) - rosenbrock((point[0]-h, point[1])))/(2*h)\n",
        "    grad[1] = (rosenbrock((point[0], point[1]+h)) - rosenbrock((point[0], point[1]-h)))/(2*h)\n",
        "    return(norm(grad))\n",
        "\n",
        "def crit_count_eps_by_diff(p1,p2,Fp1,Fp2):\n",
        "    term1 = norm(p2 - p1) / norm(p1)\n",
        "    term2 = abs(Fp2 - Fp1) / abs(Fp1)\n",
        "    eps = max(term1, term2)\n",
        "    return(eps)"
      ],
      "execution_count": 11,
      "outputs": []
    },
    {
      "cell_type": "markdown",
      "metadata": {
        "id": "yCYqiZAN2eOB"
      },
      "source": [
        "Функція find_min_gauss_newton() приймає наступні вхідні параметри: початкова точка х, якобіан, критерий закінчення, крок h для обчислення похідних, точність обчислення $\\varepsilon$ та максимальна кількість ітерацій при пошуку мінімальної точки, при якій спрацює зупинка у разі не досягнення заданої точності. В даній функції реалізований безпосередньо метод найменших квадратів Гауса-Ньютона, тобто знаходження кожної наступної точки, перевірка виконання критерію закінчення, поки не буде досягнуто бажаної точності або поки не будуть пройдені всі ітерації:"
      ]
    },
    {
      "cell_type": "code",
      "metadata": {
        "id": "05ilajTX2ehh"
      },
      "source": [
        "def find_min_gauss_newton(x, J, criteria, krok, eps, itr):\n",
        "    it = 0\n",
        "    prevX = x\n",
        "    prevF = rosenbrock(x)\n",
        "    while it < itr:\n",
        "        Jacob = J(prevX, krok)\n",
        "        # print(it)\n",
        "        Jtr = Jacob.T\n",
        "        # print(np.linalg.det(Jtr.dot(Jacob)))\n",
        "        term1 = np.linalg.pinv(Jtr.dot(Jacob))\n",
        "        term2 = Jtr.dot((np.array(roz_elem(prevX)).reshape(2,1)))\n",
        "        nextX = prevX.reshape(2,1) - term1.dot(term2)\n",
        "        nextX = nextX.reshape(2)\n",
        "        nextF = rosenbrock(nextX)\n",
        "        if criteria == crit_end1:\n",
        "            if crit_end1(prevX,nextX,prevF,nextF,eps):\n",
        "                return nextX, nextF, it\n",
        "        else:\n",
        "            if crit_end2(nextX, krok, eps):\n",
        "                return nextX, nextF, it\n",
        "\n",
        "        prevX = nextX[:]\n",
        "        prevF = nextF\n",
        "        it += 1\n",
        "    print('iterations finished')\n",
        "    return nextX, nextF, it"
      ],
      "execution_count": 12,
      "outputs": []
    },
    {
      "cell_type": "markdown",
      "metadata": {
        "id": "1IGNfc2k3uoa"
      },
      "source": [
        "Функція find_min_lev_marq() представляє собою модифікацію Левенберга-Марквардта. Вона приймає на вхід такі параметри: початкова точка х, якобіан, критерій закінчення, крок h для обчислення похідних, точність обчислення $\\varepsilon$, початкова константа (параметр регуляризації) $\\lambda$ та максимальна кількість ітерацій у ході пошуку мінімальної точки, при якій спрацює зупинка пошуку у разі не досягнення заданої точності."
      ]
    },
    {
      "cell_type": "markdown",
      "metadata": {
        "id": "L8FCGPPxJUEm"
      },
      "source": [
        "*Модифікація Левенберга-Марквардта* https://ru.wikipedia.org/wiki/Алгоритм_Левенберга_—_Марквардта "
      ]
    },
    {
      "cell_type": "code",
      "metadata": {
        "id": "HUIq_Pks3vtf"
      },
      "source": [
        "def find_min_lev_marq(x, J, criteria, krok, eps, lm, itr):\n",
        "    it = 0\n",
        "    lm_next = lm\n",
        "    prevX = x\n",
        "    prevF = rosenbrock(x)\n",
        "    while it < itr:\n",
        "        # print(f'Lambda = {lm_next}')\n",
        "        Jacob = J(prevX, krok)\n",
        "        # print(it)\n",
        "        Jtr = Jacob.T\n",
        "        # print(np.linalg.det(Jtr.dot(Jacob)))\n",
        "        term0 = Jtr.dot(Jacob) + lm_next*np.eye(2)\n",
        "        term1 = np.linalg.pinv(term0)\n",
        "        term2 = Jtr.dot((np.array(roz_elem(prevX)).reshape(2,1)))\n",
        "        nextX = prevX.reshape(2,1) - term1.dot(term2)\n",
        "        nextX = nextX.reshape(2)\n",
        "        nextF = rosenbrock(nextX)\n",
        "        # print(f'F_prev = {prevF}')\n",
        "        # print(f'F_next = {nextF}')\n",
        "        if criteria == crit_end1:\n",
        "            if crit_end1(prevX,nextX,prevF,nextF,eps):\n",
        "                return nextX, nextF, it\n",
        "        else:\n",
        "            if crit_end2(nextX, krok, eps):\n",
        "                return nextX, nextF, it\n",
        "        if (nextF-prevF) > 0:\n",
        "            lm_next = lm_next * 100\n",
        "        else:\n",
        "            lm_next = lm_next / 100\n",
        "        prevX = nextX[:]\n",
        "        prevF = nextF\n",
        "        it += 1\n",
        "    print('iterations finished')\n",
        "    return nextX, nextF, it"
      ],
      "execution_count": 13,
      "outputs": []
    },
    {
      "cell_type": "markdown",
      "metadata": {
        "id": "Wd9seHpV3z9R"
      },
      "source": [
        "Функція find_eps_by_h_gauss_newton() майже аналогічна до  find_min_gauss_newton(). Вона так само представляє собою реалізацію МНК Гауса-Ньютона, але без зафіксованого значення точності $\\varepsilon$. Вона має обмеження лише на кількість ітерацій. Застосувавши її, можна дізнатись якої точності знаходження точки мінімума буде досягнуто при фіксованій кількості ітерацій."
      ]
    },
    {
      "cell_type": "code",
      "metadata": {
        "id": "GjocpQTy30UL"
      },
      "source": [
        "def find_eps_by_h_gauss_newton(x, J, krok, criteria, itr):  \n",
        "    it = 0\n",
        "    list_eps = []\n",
        "    prevX = x\n",
        "    prevF = rosenbrock(x)\n",
        "    while it < itr:\n",
        "        Jacob = J(prevX, krok)\n",
        "        # print(it)\n",
        "        Jtr = Jacob.T\n",
        "        # print(np.linalg.det(Jtr.dot(Jacob)))\n",
        "        term1 = np.linalg.pinv(Jtr.dot(Jacob))\n",
        "        term2 = Jtr.dot((np.array(roz_elem(prevX)).reshape(2,1)))\n",
        "        nextX = prevX.reshape(2,1) - term1.dot(term2)\n",
        "        nextX = nextX.reshape(2)\n",
        "        nextF = rosenbrock(nextX)\n",
        "        if criteria == crit_count_eps_by_norm:\n",
        "            list_eps.append(crit_count_eps_by_norm(nextX,krok))\n",
        "        else:\n",
        "            list_eps.append(crit_count_eps_by_diff(prevX,nextX,prevF,nextF))\n",
        "        prevX = nextX[:]\n",
        "        prevF = nextF\n",
        "        it += 1\n",
        "    return nextX, list_eps"
      ],
      "execution_count": 14,
      "outputs": []
    },
    {
      "cell_type": "markdown",
      "metadata": {
        "id": "Yr2eDHU1WR7Z"
      },
      "source": [
        "**Нижченаведені функції використовуються при розв'язанні задачі умовної оптимізації методом зовнішньої точки.**"
      ]
    },
    {
      "cell_type": "markdown",
      "metadata": {
        "id": "KuQ-KgEz6DJX"
      },
      "source": [
        "*Примітка.* Слід зазначити, що звівши задачу умовної оптимізації до послідовності задач безумовної оптимізації, їх вирішення буде виконуватися методом Гауса-Ньютона, програмне забезпечення для якого було зазначено вище."
      ]
    },
    {
      "cell_type": "markdown",
      "metadata": {
        "id": "MH4l5D2a4YnL"
      },
      "source": [
        "*Метод штрафних функцій*  http://www.machinelearning.ru/wiki/index.php?title=Метод_штрафных_функций  "
      ]
    },
    {
      "cell_type": "markdown",
      "metadata": {
        "id": "gwb0t1Qf4rhZ"
      },
      "source": [
        "*Метод зовнішньої точки* https://bstudy.net/721321/informatika/metod_shtrafov\n",
        "https://hub.exponenta.ru/post/postanovka-zadachi-optimizatsii-i-chislennye-metody-ee-resheniya356"
      ]
    },
    {
      "cell_type": "markdown",
      "metadata": {
        "id": "uYCWSUIAOR65"
      },
      "source": [
        "Функція penalty() повертає значення функцій-обмежень в точці:"
      ]
    },
    {
      "cell_type": "code",
      "metadata": {
        "id": "Qr45GtfnuIDj"
      },
      "source": [
        "def penalty(x):\n",
        "    return [-x[0]**2 - x[1]**2 + 4, x[0]**2 + x[1]**2 - 1, (-x[0]**2 - x[1]**2 + 4) + (x[0]**2 + x[1]**2 - 1), (-x[0]**2 - x[1]**2 + 1) + (x[0]**2 + x[1]**2 - 0.25)]"
      ],
      "execution_count": 15,
      "outputs": []
    },
    {
      "cell_type": "markdown",
      "metadata": {
        "id": "oHlRkRmKOq46"
      },
      "source": [
        "Функція rosenbrock_penalty() повертає значення цільової функції задачі умовної оптимізації в точці:"
      ]
    },
    {
      "cell_type": "code",
      "metadata": {
        "id": "Q0Jo1Me_Mrw7"
      },
      "source": [
        "def rosenbrock_penalty(x, r, ind):\n",
        "    return ((1-x[0])**2 + 100*(x[1] - x[0]**2)*(x[1] - x[0]**2) + r*(penalty(x)[ind]))"
      ],
      "execution_count": 16,
      "outputs": []
    },
    {
      "cell_type": "markdown",
      "metadata": {
        "id": "K_TfQK15O9ZJ"
      },
      "source": [
        "Функція rosenbrock_penalty_elem() приймає на вхід в якості параметрів точку х, штрафний параметр R, номер обмеження із сукупності обмежень, при яких досліджується метод, та повертає значення функцій, які представляють собою розкладення цільової функції задачі умовної оптимізації, в даній точці:"
      ]
    },
    {
      "cell_type": "code",
      "metadata": {
        "id": "XQ02FbeyMugi"
      },
      "source": [
        "def rosenbrock_penalty_elem(x, r, ind):\n",
        "    return ((1-x[0])**2, 100*(x[1] - x[0]**2)*(x[1] - x[0]**2), r*(penalty(x)[ind]))"
      ],
      "execution_count": 17,
      "outputs": []
    },
    {
      "cell_type": "markdown",
      "metadata": {
        "id": "RttFZ70jP3Hv"
      },
      "source": [
        "Функція gen_J_rigth_penalty() приймає в якості параметрів точку х, крок h для обчислення похідних, штрафний параметр R, номер обмеження із сукупності обмежень, при яких досліджується метод, та повертає якобіан, компоненти якого знаходяться шляхом застосування правої схеми обчислення похідних:"
      ]
    },
    {
      "cell_type": "code",
      "metadata": {
        "id": "0dmaLTcnMwpj"
      },
      "source": [
        "def gen_J_rigth_penalty(x, h, r, ind):\n",
        "    for i in range(3):\n",
        "        for j in range(2):\n",
        "            Jrp[i][j] = (rosenbrock_penalty_elem((x[0]+((j+3)%2)*h, x[1]+((j+2)%2)*h), r, ind)[i]\n",
        "                        - rosenbrock_penalty_elem(x, r, ind)[i])/h\n",
        "    return Jrp"
      ],
      "execution_count": 18,
      "outputs": []
    },
    {
      "cell_type": "markdown",
      "metadata": {
        "id": "h0TnnhRjP2Je"
      },
      "source": [
        "Функція find_min_gauss_newton_penalty() приймає наступні вхідні параметри: початкова точка х, крок h для обчислення похідних, точність обчислення $\\varepsilon$, штрафний параметр R, номер обмеження із сукупності обмежень, при яких досліджується метод, та максимальна кількість ітерацій у ході пошуку мінімальної точки, при якій спрацює зупинка пошуку мінімуму у разі не досягнення заданої точності. В даній функції реалізований алгоритм розв'язання задачі умовної оптимізації методом зовнішньої точки: зведення задачі умовної оптимізації, до задачі безумовної оптимізації з подальшим вирішенням послідовності задач безумовної оптимізації методом найменших квадратів Гауса-Ньютона:"
      ]
    },
    {
      "cell_type": "code",
      "metadata": {
        "id": "Fxej7O80ujLT"
      },
      "source": [
        "def find_min_gauss_newton_penalty(x, krok, eps, r, ind, itr):\n",
        "    it = 0\n",
        "    prevX = x\n",
        "    if penalty(prevX)[ind] >= 0:\n",
        "        prevF = rosenbrock(x)\n",
        "    else:\n",
        "        prevF = rosenbrock_penalty(prevX, r, ind)\n",
        "    while it < itr:\n",
        "        # print('---------------------------------------------')\n",
        "        # print(f'znak {penalty(prevX)[ind]}')\n",
        "        if penalty(prevX)[ind] >= 0:\n",
        "            Jacob = gen_J_rigth(prevX, krok)\n",
        "            # print(it)\n",
        "            Jtr = Jacob.T\n",
        "            # print(np.linalg.det(Jtr.dot(Jacob)))\n",
        "            term1 = np.linalg.pinv(Jtr.dot(Jacob))\n",
        "            term2 = Jtr.dot((np.array(roz_elem(prevX)).reshape(2, 1)))\n",
        "            nextX = prevX.reshape(2, 1) - term1.dot(term2)\n",
        "            nextX = nextX.reshape(2)\n",
        "            nextF = rosenbrock(nextX)\n",
        "            if crit_end1(prevX, nextX, prevF, nextF, eps):\n",
        "                return nextX, nextF, it\n",
        "        else:\n",
        "            Jacob = gen_J_rigth_penalty(prevX, krok, r, ind)\n",
        "            # print(it)\n",
        "            Jtr = Jacob.T\n",
        "            # print(np.linalg.det(Jtr.dot(Jacob)))\n",
        "            term1 = np.linalg.pinv(Jtr.dot(Jacob))\n",
        "            term2 = Jtr.dot((np.array(rosenbrock_penalty_elem(prevX, r, ind)).reshape(3,1)))\n",
        "            # print(f'term2 {term2}')\n",
        "            nextX = prevX.reshape(2,1) - term1.dot(term2)\n",
        "            nextX = nextX.reshape(2)\n",
        "            nextF = rosenbrock_penalty(nextX, r, ind)\n",
        "            # print(f'prevX {prevX}')\n",
        "            # print(f'nextX {nextX}')\n",
        "            # print(f'prevF {prevF}')\n",
        "            # print(f'nextF {nextF}')\n",
        "            if crit_end1(prevX,nextX,prevF,nextF,eps):\n",
        "                return nextX, nextF, it\n",
        "\n",
        "        prevX = nextX[:]\n",
        "        prevF = nextF\n",
        "        r *= 10\n",
        "        it += 1\n",
        "    print('iterations finished')\n",
        "    return nextX, nextF, it"
      ],
      "execution_count": 19,
      "outputs": []
    },
    {
      "cell_type": "markdown",
      "metadata": {
        "id": "y9E-eO8GDMv0"
      },
      "source": [
        "### Обчислення"
      ]
    },
    {
      "cell_type": "markdown",
      "metadata": {
        "id": "KhQWwDLZIDnF"
      },
      "source": [
        "***Обчислення для дослідження МНК Гауса-Ньютона*** "
      ]
    },
    {
      "cell_type": "code",
      "metadata": {
        "id": "g_-_Z_n2t0Bm"
      },
      "source": [
        "# досліджуємо МНК Гауса-Ньютона при різних h\n",
        "x_min_1, f_1, itr_1 = find_min_gauss_newton(x0, gen_J_rigth, crit_end2, h1, eps_fix, itr) # h=0.0001\n",
        "x_min_2, f_2, itr_2 = find_min_gauss_newton(x0, gen_J_rigth, crit_end2, h2, eps_fix, itr) # h=0.00001\n",
        "x_min_3, f_3, itr_3 = find_min_gauss_newton(x0, gen_J_rigth, crit_end2, h3, eps_fix, itr) # h=0.000001"
      ],
      "execution_count": 20,
      "outputs": []
    },
    {
      "cell_type": "code",
      "metadata": {
        "id": "Lts8-rZDWd_l"
      },
      "source": [
        "# модифікація Левенберга-Марквардта для тих самих h (0.0001, 0.00001, 0.000001)\n",
        "x_min_lev1, f_lev1, it1 = find_min_lev_marq(x0, gen_J_rigth, crit_end2, h1, eps_fix, lambda_fix, itr)\n",
        "x_min_lev2, f_lev2, it2 = find_min_lev_marq(x0, gen_J_rigth, crit_end2, h2, eps_fix, lambda_fix, itr)\n",
        "x_min_lev3, f_lev3, it3 = find_min_lev_marq(x0, gen_J_rigth, crit_end2, h3, eps_fix, lambda_fix, itr)"
      ],
      "execution_count": 21,
      "outputs": []
    },
    {
      "cell_type": "code",
      "metadata": {
        "id": "8KczMS2Qa9a_"
      },
      "source": [
        "# досліджуємо МНК Гауса-Ньютона відносно різних схем обчислення похідних\n",
        "# в першому пункті дослідження було розглянуто праву схему, а тепер розглянемо центральну та порівняємо потім результати\n",
        "x_min_c1, f_c1, it_c1 = find_min_gauss_newton(x0, gen_J_center, crit_end2, h1, eps_fix, itr) \n",
        "x_min_c2, f_c2, it_c2 = find_min_gauss_newton(x0, gen_J_center, crit_end2, h2, eps_fix, itr) \n",
        "x_min_c3, f_c3, it_c3 = find_min_gauss_newton(x0, gen_J_center, crit_end2, h3, eps_fix, itr) "
      ],
      "execution_count": 22,
      "outputs": []
    },
    {
      "cell_type": "code",
      "metadata": {
        "id": "x3iIzMggo0zF"
      },
      "source": [
        "# досліджуємо МНК Гауса-Ньютона відносно різних критеріїв закінчення пошуку мінімуму функції Розенброка\n",
        "xmin_cr1, f_cr1, it_cr1 = find_min_gauss_newton(x0, gen_J_center, crit_end1, h3, eps_fix2, itr) \n",
        "xmin_cr2, f_cr2, it_cr2 = find_min_gauss_newton(x0, gen_J_center, crit_end2, h3, eps_fix2, itr) "
      ],
      "execution_count": 23,
      "outputs": []
    },
    {
      "cell_type": "code",
      "metadata": {
        "id": "4Y2dwX9GijhO"
      },
      "source": [
        "# побудова графіку збіжності МНК Гауса-Ньютона\n",
        "dict_plot = {\n",
        "    0.1: find_eps_by_h_gauss_newton(x0, gen_J_rigth, 0.1, crit_count_eps_by_norm, 100)[1][::3],\n",
        "    0.05: find_eps_by_h_gauss_newton(x0, gen_J_rigth, 0.05, crit_count_eps_by_norm, 100)[1][::3],\n",
        "    0.001: find_eps_by_h_gauss_newton(x0, gen_J_rigth, 0.001, crit_count_eps_by_norm, 100)[1][::3]\n",
        "             }\n",
        "plot_x = list(range(len(dict_plot[0.1])))\n",
        "# print(find_eps_by_h_gauss_newton(x0, gen_J_rigth, 0.001, crit_count_eps_by_diff)[1][0])\n",
        "\n",
        "dict_plot2 = {\n",
        "    0.1: find_eps_by_h_gauss_newton(x0, gen_J_center, 0.1, crit_count_eps_by_norm, 100)[1][::3],\n",
        "    0.05: find_eps_by_h_gauss_newton(x0, gen_J_center, 0.05, crit_count_eps_by_norm, 100)[1][::3],\n",
        "    0.001: find_eps_by_h_gauss_newton(x0, gen_J_center, 0.001, crit_count_eps_by_norm, 100)[1][::3]\n",
        "             }\n",
        "plot_x2 = list(range(len(dict_plot[0.1])))"
      ],
      "execution_count": 24,
      "outputs": []
    },
    {
      "cell_type": "code",
      "metadata": {
        "colab": {
          "base_uri": "https://localhost:8080/"
        },
        "id": "JDhKpyxLj34R",
        "outputId": "60a1a247-df77-42fc-a070-fded3a6a34ce"
      },
      "source": [
        "# побудова стовбчикової діаграми, яка буде відображати к-сть ітерацій, за які досягнуто бажаної точності (МНК Гауса-Ньютона)\n",
        "itr_lst1 = [] # результати при h=0.0001\n",
        "itr_lst2 = [] # результати при h=0.00001\n",
        "itr_lst3 = [] # результати при h=0.000001\n",
        "for i in range(len(eps_lst)):\n",
        "  x1, func1, itr_el1 = find_min_gauss_newton(x0, gen_J_rigth, crit_end2, h1, eps_lst[i], 1000)\n",
        "  x2, func2, itr_el2 = find_min_gauss_newton(x0, gen_J_rigth, crit_end2, h2, eps_lst[i], 1000)\n",
        "  x3, func3, itr_el3 = find_min_gauss_newton(x0, gen_J_rigth, crit_end2, h3, eps_lst[i], 1000)\n",
        "  itr_lst1.append(itr_el1)\n",
        "  itr_lst2.append(itr_el2)\n",
        "  itr_lst3.append(itr_el3)"
      ],
      "execution_count": 25,
      "outputs": [
        {
          "output_type": "stream",
          "text": [
            "iterations finished\n",
            "iterations finished\n",
            "iterations finished\n"
          ],
          "name": "stdout"
        }
      ]
    },
    {
      "cell_type": "markdown",
      "metadata": {
        "id": "FTvHwAyuIR0-"
      },
      "source": [
        "***Обчислення для дослідження методу зовнішньої точки***"
      ]
    },
    {
      "cell_type": "code",
      "metadata": {
        "id": "JO51Gc3AlDz5"
      },
      "source": [
        "# локальний мінімум всередині допустимої області, яка є випуклою\n",
        "xmin1, f1, it1 = find_min_gauss_newton_penalty(x0_2, h1, eps_fix3, R, restr1, itr)\n",
        "xmin1_2, f1_2, it1_2 = find_min_gauss_newton_penalty(x0_2, h1, eps_fix3, R2, restr1, itr)"
      ],
      "execution_count": 26,
      "outputs": []
    },
    {
      "cell_type": "code",
      "metadata": {
        "id": "Idjx615RvZX_"
      },
      "source": [
        "# локальний мінімум поза допустимою областю, яка є випуклою\n",
        "xmin2, f2, it2 = find_min_gauss_newton_penalty(x0_2, h1, eps_fix3, R, restr2, itr)\n",
        "xmin2_2, f2_2, it2_2 = find_min_gauss_newton_penalty(x0_2, h1, eps_fix3, R2, restr2, itr)"
      ],
      "execution_count": 27,
      "outputs": []
    },
    {
      "cell_type": "code",
      "metadata": {
        "id": "nJkoizAhxUYS"
      },
      "source": [
        "# локальний мінімум всередині допустимої області, яка є невипуклою\n",
        "xmin3, f3, it3 = find_min_gauss_newton_penalty(x0_2, h1, eps_fix3, R, restr3, itr)\n",
        "xmin3_2, f3_2, it3_2 = find_min_gauss_newton_penalty(x0_2, h1, eps_fix3, R2, restr3, itr)"
      ],
      "execution_count": 28,
      "outputs": []
    },
    {
      "cell_type": "code",
      "metadata": {
        "id": "wdD6fB0K13oy"
      },
      "source": [
        "# локальний мінімум поза допустимою областю, яка є невипуклою\n",
        "xmin4, f4, it4 = find_min_gauss_newton_penalty(x0_2, h1, eps_fix3, R, restr4, itr)\n",
        "xmin4_2, f4_2, it4_2 = find_min_gauss_newton_penalty(x0_2, h1, eps_fix3, R2, restr4, itr)"
      ],
      "execution_count": 29,
      "outputs": []
    },
    {
      "cell_type": "markdown",
      "metadata": {
        "id": "WCBL113lIWPe"
      },
      "source": [
        "### Відображення результатів"
      ]
    },
    {
      "cell_type": "markdown",
      "metadata": {
        "id": "1BYbj3jJoliT"
      },
      "source": [
        "**Результати, яких досягли методом найменших квадртаів Гауса-Ньютона, при різних значеннях h:**"
      ]
    },
    {
      "cell_type": "code",
      "metadata": {
        "colab": {
          "base_uri": "https://localhost:8080/"
        },
        "id": "NRY1yEyVloyF",
        "outputId": "6068e009-0a68-440b-fe4a-4294b0cba6ac"
      },
      "source": [
        "print(f'При h={h1} мінімум функції f(x_min) = {f_1}  в точці x_min = {x_min_1} на {itr_1} ітерації.')\n",
        "print(f'При h={h2} мінімум функції f(x_min) = {f_2}  в точці x_min = {x_min_2} на {itr_2} ітерації.')\n",
        "print(f'При h={h3} мінімум функції f(x_min) = {f_3}  в точці x_min = {x_min_3} на {itr_3} ітерації.')"
      ],
      "execution_count": 30,
      "outputs": [
        {
          "output_type": "stream",
          "text": [
            "При h=0.0001 мінімум функції f(x_min) = 5.051829431738874e-10  в точці x_min = [1.00000075 1.00000374] на 149 ітерації.\n",
            "При h=1e-05 мінімум функції f(x_min) = 1.2214366242466353e-12  в точці x_min = [0.99999899 0.99999804] на 17 ітерації.\n",
            "При h=1e-06 мінімум функції f(x_min) = 8.835178194902814e-11  в точці x_min = [0.9999996  0.99999825] на 20 ітерації.\n"
          ],
          "name": "stdout"
        }
      ]
    },
    {
      "cell_type": "markdown",
      "metadata": {
        "id": "BTt2ocbx2Y41"
      },
      "source": [
        "Обчислення виконані при фіксованій точності $\\varepsilon$ = 0.001. Застосовано праву схему обчислення похідних. Критерій закінчення - значення норми градієнта функції в точці."
      ]
    },
    {
      "cell_type": "markdown",
      "metadata": {
        "id": "GQ2xd-NbYGn2"
      },
      "source": [
        "**Застосування модифікації Левенберга-Марквардта дало наступний результат:**"
      ]
    },
    {
      "cell_type": "code",
      "metadata": {
        "colab": {
          "base_uri": "https://localhost:8080/"
        },
        "id": "jODLFTUIYB6o",
        "outputId": "da74130c-44a7-4d2c-d6d6-c7fbf77a5521"
      },
      "source": [
        "print(f'При h={h1} мінімум функції f(x_min) = {f_lev1}  в точці x_min = {x_min_lev1} на {it1} ітерації.')\n",
        "print(f'При h={h2} мінімум функції f(x_min) = {f_lev2}  в точці x_min = {x_min_lev2} на {it2} ітерації.')\n",
        "print(f'При h={h3} мінімум функції f(x_min) = {f_lev3}  в точці x_min = {x_min_lev3} на {it3} ітерації.')"
      ],
      "execution_count": 31,
      "outputs": [
        {
          "output_type": "stream",
          "text": [
            "При h=0.0001 мінімум функції f(x_min) = 4.874830642109837e-10  в точці x_min = [1.00000643 1.00001075] на 214 ітерації.\n",
            "При h=1e-05 мінімум функції f(x_min) = 4.4488283337868385e-10  в точці x_min = [1.0000007  1.00000351] на 220 ітерації.\n",
            "При h=1e-06 мінімум функції f(x_min) = 4.011989743215561e-11  в точці x_min = [0.99999714 0.99999371] на 222 ітерації.\n"
          ],
          "name": "stdout"
        }
      ]
    },
    {
      "cell_type": "markdown",
      "metadata": {
        "id": "RdvGgZ242Qoh"
      },
      "source": [
        "Обчислення виконані при фіксованій точності $\\varepsilon$ = 0.001. Застосовано праву схему обчислення похідних. Критерій закінчення - значення норми градієнта функції в точці."
      ]
    },
    {
      "cell_type": "markdown",
      "metadata": {
        "id": "4hJ6PqZvcqyC"
      },
      "source": [
        "**Результати застосування центральної схеми обчислення похідних в МНК Гауса-Ньютона наведено нижче:**"
      ]
    },
    {
      "cell_type": "code",
      "metadata": {
        "colab": {
          "base_uri": "https://localhost:8080/"
        },
        "id": "01S2uS-ac623",
        "outputId": "767f72e1-09d4-4aed-d932-377eb730db98"
      },
      "source": [
        "print(f'При h={h1} мінімум функції f(x_min) = {f_c1}  в точці x_min = {x_min_c1} на {it_c1} ітерації.')\n",
        "print(f'При h={h2} мінімум функції f(x_min) = {f_c2}  в точці x_min = {x_min_c2} на {it_c2} ітерації.')\n",
        "print(f'При h={h3} мінімум функції f(x_min) = {f_c3}  в точці x_min = {x_min_c3} на {it_c3} ітерації.')"
      ],
      "execution_count": 32,
      "outputs": [
        {
          "output_type": "stream",
          "text": [
            "При h=0.0001 мінімум функції f(x_min) = 2.2235996785717946e-10  в точці x_min = [0.99999948 0.99999746] на 21 ітерації.\n",
            "При h=1e-05 мінімум функції f(x_min) = 2.2443540827076515e-10  в точці x_min = [0.99999948 0.99999745] на 21 ітерації.\n",
            "При h=1e-06 мінімум функції f(x_min) = 2.2445617907319e-10  в точці x_min = [0.99999948 0.99999745] на 21 ітерації.\n"
          ],
          "name": "stdout"
        }
      ]
    },
    {
      "cell_type": "markdown",
      "metadata": {
        "id": "LdL_TLOX1504"
      },
      "source": [
        "Обчислення виконані при фіксованій точності $\\varepsilon$ = 0.001. Застосовано центральну схему обчислення похідних. Критерій закінчення - значення норми градієнта функції в точці."
      ]
    },
    {
      "cell_type": "markdown",
      "metadata": {
        "id": "pcxSFxo6xcsM"
      },
      "source": [
        "**Нижче подано результати, яких було досягнуто методом найменших квадртаів Гауса-Ньютона, при використанні різних критеріїв закінчення.**"
      ]
    },
    {
      "cell_type": "markdown",
      "metadata": {
        "id": "ySMydihs082b"
      },
      "source": [
        "При застосуванні в МНК Гауса-Ньютона *критерію закінчення №1 (критерій закінчення по відносній похибці)*"
      ]
    },
    {
      "cell_type": "code",
      "metadata": {
        "colab": {
          "base_uri": "https://localhost:8080/"
        },
        "id": "zcXWG6CdySk_",
        "outputId": "0166c445-bc9a-49d0-a946-271054f04402"
      },
      "source": [
        "print(f'мінімум функції f(x_min) = {f_cr1}  в точці x_min = {xmin_cr1} на {it_cr1} ітерації.')"
      ],
      "execution_count": 33,
      "outputs": [
        {
          "output_type": "stream",
          "text": [
            "мінімум функції f(x_min) = 1.5461723046138408e-26  в точці x_min = [1. 1.] на 53 ітерації.\n"
          ],
          "name": "stdout"
        }
      ]
    },
    {
      "cell_type": "markdown",
      "metadata": {
        "id": "3YIQ-zIR1D-_"
      },
      "source": [
        "При застосуванні в МНК Гауса-Ньютона *критерію закінчення №2 (норма градієнта функції в точці)*"
      ]
    },
    {
      "cell_type": "code",
      "metadata": {
        "colab": {
          "base_uri": "https://localhost:8080/"
        },
        "id": "t1osh8V61QzA",
        "outputId": "e61ad6cf-d6ab-4e31-99e8-6743282695b8"
      },
      "source": [
        "print(f'мінімум функції f(x_min) = {f_cr2}  в точці x_min = {xmin_cr2} на {it_cr2} ітерації.')"
      ],
      "execution_count": 34,
      "outputs": [
        {
          "output_type": "stream",
          "text": [
            "мінімум функції f(x_min) = 3.5071059788016414e-12  в точці x_min = [0.99999993 0.99999968] на 24 ітерації.\n"
          ],
          "name": "stdout"
        }
      ]
    },
    {
      "cell_type": "markdown",
      "metadata": {
        "id": "taf2KjtS1bPm"
      },
      "source": [
        "В обох випадках обчислення виконані при фіксованій точності $\\varepsilon$ = 0.0001. Застосовано центральну схему обчислення похідних. Крок для обчислення похідних h = 1e-06 ."
      ]
    },
    {
      "cell_type": "markdown",
      "metadata": {
        "id": "iolZP7NLcSSN"
      },
      "source": [
        "**Далі наведено два графіки, що демонструють характер збіжності методу найменших квадратів Гауса-Ньютона (вісь х - <поточна кількість ітерацій>, вісь у - <досягнута точність $\\varepsilon$>).**"
      ]
    },
    {
      "cell_type": "code",
      "metadata": {
        "colab": {
          "base_uri": "https://localhost:8080/",
          "height": 542
        },
        "id": "XpFoAQVodP8w",
        "outputId": "79c62945-80fb-473d-bd79-f474c95bcd7a"
      },
      "source": [
        "fig = go.Figure()\n",
        "fig.add_trace(go.Scatter(x=plot_x, y=dict_plot[0.1],\n",
        "                    mode='lines',\n",
        "                    name='h = 0.1'))\n",
        "fig.add_trace(go.Scatter(x=plot_x, y=dict_plot[0.05],\n",
        "                    mode='lines',\n",
        "                    name='h = 0.05'))\n",
        "fig.add_trace(go.Scatter(x=plot_x, y=dict_plot[0.001],\n",
        "                    mode='lines',\n",
        "                    name='h = 0.001'))\n",
        "fig.show()"
      ],
      "execution_count": 35,
      "outputs": [
        {
          "output_type": "display_data",
          "data": {
            "text/html": [
              "<html>\n",
              "<head><meta charset=\"utf-8\" /></head>\n",
              "<body>\n",
              "    <div>\n",
              "            <script src=\"https://cdnjs.cloudflare.com/ajax/libs/mathjax/2.7.5/MathJax.js?config=TeX-AMS-MML_SVG\"></script><script type=\"text/javascript\">if (window.MathJax) {MathJax.Hub.Config({SVG: {font: \"STIX-Web\"}});}</script>\n",
              "                <script type=\"text/javascript\">window.PlotlyConfig = {MathJaxConfig: 'local'};</script>\n",
              "        <script src=\"https://cdn.plot.ly/plotly-latest.min.js\"></script>    \n",
              "            <div id=\"ae1db7dc-b00e-4bd7-bbc5-16d21f84f9d3\" class=\"plotly-graph-div\" style=\"height:525px; width:100%;\"></div>\n",
              "            <script type=\"text/javascript\">\n",
              "                \n",
              "                    window.PLOTLYENV=window.PLOTLYENV || {};\n",
              "                    \n",
              "                if (document.getElementById(\"ae1db7dc-b00e-4bd7-bbc5-16d21f84f9d3\")) {\n",
              "                    Plotly.newPlot(\n",
              "                        'ae1db7dc-b00e-4bd7-bbc5-16d21f84f9d3',\n",
              "                        [{\"mode\": \"lines\", \"name\": \"h = 0.1\", \"type\": \"scatter\", \"x\": [0, 1, 2, 3, 4, 5, 6, 7, 8, 9, 10, 11, 12, 13, 14, 15, 16, 17, 18, 19, 20, 21, 22, 23, 24, 25, 26, 27, 28, 29, 30, 31, 32, 33], \"y\": [349.65730142114063, 81.64876288176174, 29.930882500064225, 14.592348245005613, 9.358098476010985, 6.6699738328753035, 5.009316049373225, 3.893380843218831, 3.1166746861075727, 2.5751059255967856, 2.2087393638148023, 1.977527812688123, 1.8497072385920847, 1.7974879595280011, 1.7970792534838564, 1.8297840360365183, 1.8821687157645863, 1.9452271989643728, 2.0132027268169974, 2.0825380306858117, 2.1510995300357743, 2.217653612925332, 2.281528333732763, 2.342399211776374, 2.4001546199753276, 2.454811315316022, 2.5064613977999586, 2.5552389955199635, 2.601299384648022, 2.644805989381209, 2.6859223991418872, 2.7248075912686542, 2.7616132033069967, 2.7964821130483064]}, {\"mode\": \"lines\", \"name\": \"h = 0.05\", \"type\": \"scatter\", \"x\": [0, 1, 2, 3, 4, 5, 6, 7, 8, 9, 10, 11, 12, 13, 14, 15, 16, 17, 18, 19, 20, 21, 22, 23, 24, 25, 26, 27, 28, 29, 30, 31, 32, 33], \"y\": [371.38326232828985, 119.70837635952422, 21.1122132829543, 9.814286648346085, 6.346848402723721, 4.645649801097688, 3.609204307545053, 2.9054339899382438, 2.3958377059729354, 2.010644221752692, 1.7103815898507597, 1.4709177071666422, 1.2766536136939923, 1.1170731632579436, 0.984849954525297, 0.8747423200766354, 0.7829137545218707, 0.706494526769799, 0.6432854710864545, 0.5915490504691241, 0.5498574983930751, 0.5169825390521534, 0.49181956889465656, 0.47334254345353466, 0.4605852005509411, 0.4526416646354446, 0.4486775139430104, 0.4479427798371177, 0.44978097164231995, 0.4536316397710119, 0.45902674812386807, 0.46558258883684833, 0.4729892916910597, 0.480999641126908]}, {\"mode\": \"lines\", \"name\": \"h = 0.001\", \"type\": \"scatter\", \"x\": [0, 1, 2, 3, 4, 5, 6, 7, 8, 9, 10, 11, 12, 13, 14, 15, 16, 17, 18, 19, 20, 21, 22, 23, 24, 25, 26, 27, 28, 29, 30, 31, 32, 33], \"y\": [393.6179689398487, 148.21338626980503, 20.80977227296773, 1.9698237335173305, 1.538598637507455, 0.5329041919528306, 0.29309798790460245, 0.19040505898451465, 0.13831866472502805, 0.1077624447000018, 0.08791945177490382, 0.07407984934067074, 0.06391185192053951, 0.05614187585735436, 0.05001965159104521, 0.04507611284960569, 0.04100365203735873, 0.03759249545565647, 0.03469484877750232, 0.03220367701207098, 0.03003961484726873, 0.02814260123398955, 0.026466366976810884, 0.024974703950909137, 0.023638880017098598, 0.022435810035591502, 0.02134673749814853, 0.020356268187436345, 0.019451651076482262, 0.018622235824035095, 0.017859058346459407, 0.01715452058199153, 0.016502140428131355, 0.015896354567040208]}],\n",
              "                        {\"template\": {\"data\": {\"bar\": [{\"error_x\": {\"color\": \"#2a3f5f\"}, \"error_y\": {\"color\": \"#2a3f5f\"}, \"marker\": {\"line\": {\"color\": \"#E5ECF6\", \"width\": 0.5}}, \"type\": \"bar\"}], \"barpolar\": [{\"marker\": {\"line\": {\"color\": \"#E5ECF6\", \"width\": 0.5}}, \"type\": \"barpolar\"}], \"carpet\": [{\"aaxis\": {\"endlinecolor\": \"#2a3f5f\", \"gridcolor\": \"white\", \"linecolor\": \"white\", \"minorgridcolor\": \"white\", \"startlinecolor\": \"#2a3f5f\"}, \"baxis\": {\"endlinecolor\": \"#2a3f5f\", \"gridcolor\": \"white\", \"linecolor\": \"white\", \"minorgridcolor\": \"white\", \"startlinecolor\": \"#2a3f5f\"}, \"type\": \"carpet\"}], \"choropleth\": [{\"colorbar\": {\"outlinewidth\": 0, \"ticks\": \"\"}, \"type\": \"choropleth\"}], \"contour\": [{\"colorbar\": {\"outlinewidth\": 0, \"ticks\": \"\"}, \"colorscale\": [[0.0, \"#0d0887\"], [0.1111111111111111, \"#46039f\"], [0.2222222222222222, \"#7201a8\"], [0.3333333333333333, \"#9c179e\"], [0.4444444444444444, \"#bd3786\"], [0.5555555555555556, \"#d8576b\"], [0.6666666666666666, \"#ed7953\"], [0.7777777777777778, \"#fb9f3a\"], [0.8888888888888888, \"#fdca26\"], [1.0, \"#f0f921\"]], \"type\": \"contour\"}], \"contourcarpet\": [{\"colorbar\": {\"outlinewidth\": 0, \"ticks\": \"\"}, \"type\": \"contourcarpet\"}], \"heatmap\": [{\"colorbar\": {\"outlinewidth\": 0, \"ticks\": \"\"}, \"colorscale\": [[0.0, \"#0d0887\"], [0.1111111111111111, \"#46039f\"], [0.2222222222222222, \"#7201a8\"], [0.3333333333333333, \"#9c179e\"], [0.4444444444444444, \"#bd3786\"], [0.5555555555555556, \"#d8576b\"], [0.6666666666666666, \"#ed7953\"], [0.7777777777777778, \"#fb9f3a\"], [0.8888888888888888, \"#fdca26\"], [1.0, \"#f0f921\"]], \"type\": \"heatmap\"}], \"heatmapgl\": [{\"colorbar\": {\"outlinewidth\": 0, \"ticks\": \"\"}, \"colorscale\": [[0.0, \"#0d0887\"], [0.1111111111111111, \"#46039f\"], [0.2222222222222222, \"#7201a8\"], [0.3333333333333333, \"#9c179e\"], [0.4444444444444444, \"#bd3786\"], [0.5555555555555556, \"#d8576b\"], [0.6666666666666666, \"#ed7953\"], [0.7777777777777778, \"#fb9f3a\"], [0.8888888888888888, \"#fdca26\"], [1.0, \"#f0f921\"]], \"type\": \"heatmapgl\"}], \"histogram\": [{\"marker\": {\"colorbar\": {\"outlinewidth\": 0, \"ticks\": \"\"}}, \"type\": \"histogram\"}], \"histogram2d\": [{\"colorbar\": {\"outlinewidth\": 0, \"ticks\": \"\"}, \"colorscale\": [[0.0, \"#0d0887\"], [0.1111111111111111, \"#46039f\"], [0.2222222222222222, \"#7201a8\"], [0.3333333333333333, \"#9c179e\"], [0.4444444444444444, \"#bd3786\"], [0.5555555555555556, \"#d8576b\"], [0.6666666666666666, \"#ed7953\"], [0.7777777777777778, \"#fb9f3a\"], [0.8888888888888888, \"#fdca26\"], [1.0, \"#f0f921\"]], \"type\": \"histogram2d\"}], \"histogram2dcontour\": [{\"colorbar\": {\"outlinewidth\": 0, \"ticks\": \"\"}, \"colorscale\": [[0.0, \"#0d0887\"], [0.1111111111111111, \"#46039f\"], [0.2222222222222222, \"#7201a8\"], [0.3333333333333333, \"#9c179e\"], [0.4444444444444444, \"#bd3786\"], [0.5555555555555556, \"#d8576b\"], [0.6666666666666666, \"#ed7953\"], [0.7777777777777778, \"#fb9f3a\"], [0.8888888888888888, \"#fdca26\"], [1.0, \"#f0f921\"]], \"type\": \"histogram2dcontour\"}], \"mesh3d\": [{\"colorbar\": {\"outlinewidth\": 0, \"ticks\": \"\"}, \"type\": \"mesh3d\"}], \"parcoords\": [{\"line\": {\"colorbar\": {\"outlinewidth\": 0, \"ticks\": \"\"}}, \"type\": \"parcoords\"}], \"pie\": [{\"automargin\": true, \"type\": \"pie\"}], \"scatter\": [{\"marker\": {\"colorbar\": {\"outlinewidth\": 0, \"ticks\": \"\"}}, \"type\": \"scatter\"}], \"scatter3d\": [{\"line\": {\"colorbar\": {\"outlinewidth\": 0, \"ticks\": \"\"}}, \"marker\": {\"colorbar\": {\"outlinewidth\": 0, \"ticks\": \"\"}}, \"type\": \"scatter3d\"}], \"scattercarpet\": [{\"marker\": {\"colorbar\": {\"outlinewidth\": 0, \"ticks\": \"\"}}, \"type\": \"scattercarpet\"}], \"scattergeo\": [{\"marker\": {\"colorbar\": {\"outlinewidth\": 0, \"ticks\": \"\"}}, \"type\": \"scattergeo\"}], \"scattergl\": [{\"marker\": {\"colorbar\": {\"outlinewidth\": 0, \"ticks\": \"\"}}, \"type\": \"scattergl\"}], \"scattermapbox\": [{\"marker\": {\"colorbar\": {\"outlinewidth\": 0, \"ticks\": \"\"}}, \"type\": \"scattermapbox\"}], \"scatterpolar\": [{\"marker\": {\"colorbar\": {\"outlinewidth\": 0, \"ticks\": \"\"}}, \"type\": \"scatterpolar\"}], \"scatterpolargl\": [{\"marker\": {\"colorbar\": {\"outlinewidth\": 0, \"ticks\": \"\"}}, \"type\": \"scatterpolargl\"}], \"scatterternary\": [{\"marker\": {\"colorbar\": {\"outlinewidth\": 0, \"ticks\": \"\"}}, \"type\": \"scatterternary\"}], \"surface\": [{\"colorbar\": {\"outlinewidth\": 0, \"ticks\": \"\"}, \"colorscale\": [[0.0, \"#0d0887\"], [0.1111111111111111, \"#46039f\"], [0.2222222222222222, \"#7201a8\"], [0.3333333333333333, \"#9c179e\"], [0.4444444444444444, \"#bd3786\"], [0.5555555555555556, \"#d8576b\"], [0.6666666666666666, \"#ed7953\"], [0.7777777777777778, \"#fb9f3a\"], [0.8888888888888888, \"#fdca26\"], [1.0, \"#f0f921\"]], \"type\": \"surface\"}], \"table\": [{\"cells\": {\"fill\": {\"color\": \"#EBF0F8\"}, \"line\": {\"color\": \"white\"}}, \"header\": {\"fill\": {\"color\": \"#C8D4E3\"}, \"line\": {\"color\": \"white\"}}, \"type\": \"table\"}]}, \"layout\": {\"annotationdefaults\": {\"arrowcolor\": \"#2a3f5f\", \"arrowhead\": 0, \"arrowwidth\": 1}, \"coloraxis\": {\"colorbar\": {\"outlinewidth\": 0, \"ticks\": \"\"}}, \"colorscale\": {\"diverging\": [[0, \"#8e0152\"], [0.1, \"#c51b7d\"], [0.2, \"#de77ae\"], [0.3, \"#f1b6da\"], [0.4, \"#fde0ef\"], [0.5, \"#f7f7f7\"], [0.6, \"#e6f5d0\"], [0.7, \"#b8e186\"], [0.8, \"#7fbc41\"], [0.9, \"#4d9221\"], [1, \"#276419\"]], \"sequential\": [[0.0, \"#0d0887\"], [0.1111111111111111, \"#46039f\"], [0.2222222222222222, \"#7201a8\"], [0.3333333333333333, \"#9c179e\"], [0.4444444444444444, \"#bd3786\"], [0.5555555555555556, \"#d8576b\"], [0.6666666666666666, \"#ed7953\"], [0.7777777777777778, \"#fb9f3a\"], [0.8888888888888888, \"#fdca26\"], [1.0, \"#f0f921\"]], \"sequentialminus\": [[0.0, \"#0d0887\"], [0.1111111111111111, \"#46039f\"], [0.2222222222222222, \"#7201a8\"], [0.3333333333333333, \"#9c179e\"], [0.4444444444444444, \"#bd3786\"], [0.5555555555555556, \"#d8576b\"], [0.6666666666666666, \"#ed7953\"], [0.7777777777777778, \"#fb9f3a\"], [0.8888888888888888, \"#fdca26\"], [1.0, \"#f0f921\"]]}, \"colorway\": [\"#636efa\", \"#EF553B\", \"#00cc96\", \"#ab63fa\", \"#FFA15A\", \"#19d3f3\", \"#FF6692\", \"#B6E880\", \"#FF97FF\", \"#FECB52\"], \"font\": {\"color\": \"#2a3f5f\"}, \"geo\": {\"bgcolor\": \"white\", \"lakecolor\": \"white\", \"landcolor\": \"#E5ECF6\", \"showlakes\": true, \"showland\": true, \"subunitcolor\": \"white\"}, \"hoverlabel\": {\"align\": \"left\"}, \"hovermode\": \"closest\", \"mapbox\": {\"style\": \"light\"}, \"paper_bgcolor\": \"white\", \"plot_bgcolor\": \"#E5ECF6\", \"polar\": {\"angularaxis\": {\"gridcolor\": \"white\", \"linecolor\": \"white\", \"ticks\": \"\"}, \"bgcolor\": \"#E5ECF6\", \"radialaxis\": {\"gridcolor\": \"white\", \"linecolor\": \"white\", \"ticks\": \"\"}}, \"scene\": {\"xaxis\": {\"backgroundcolor\": \"#E5ECF6\", \"gridcolor\": \"white\", \"gridwidth\": 2, \"linecolor\": \"white\", \"showbackground\": true, \"ticks\": \"\", \"zerolinecolor\": \"white\"}, \"yaxis\": {\"backgroundcolor\": \"#E5ECF6\", \"gridcolor\": \"white\", \"gridwidth\": 2, \"linecolor\": \"white\", \"showbackground\": true, \"ticks\": \"\", \"zerolinecolor\": \"white\"}, \"zaxis\": {\"backgroundcolor\": \"#E5ECF6\", \"gridcolor\": \"white\", \"gridwidth\": 2, \"linecolor\": \"white\", \"showbackground\": true, \"ticks\": \"\", \"zerolinecolor\": \"white\"}}, \"shapedefaults\": {\"line\": {\"color\": \"#2a3f5f\"}}, \"ternary\": {\"aaxis\": {\"gridcolor\": \"white\", \"linecolor\": \"white\", \"ticks\": \"\"}, \"baxis\": {\"gridcolor\": \"white\", \"linecolor\": \"white\", \"ticks\": \"\"}, \"bgcolor\": \"#E5ECF6\", \"caxis\": {\"gridcolor\": \"white\", \"linecolor\": \"white\", \"ticks\": \"\"}}, \"title\": {\"x\": 0.05}, \"xaxis\": {\"automargin\": true, \"gridcolor\": \"white\", \"linecolor\": \"white\", \"ticks\": \"\", \"title\": {\"standoff\": 15}, \"zerolinecolor\": \"white\", \"zerolinewidth\": 2}, \"yaxis\": {\"automargin\": true, \"gridcolor\": \"white\", \"linecolor\": \"white\", \"ticks\": \"\", \"title\": {\"standoff\": 15}, \"zerolinecolor\": \"white\", \"zerolinewidth\": 2}}}},\n",
              "                        {\"responsive\": true}\n",
              "                    ).then(function(){\n",
              "                            \n",
              "var gd = document.getElementById('ae1db7dc-b00e-4bd7-bbc5-16d21f84f9d3');\n",
              "var x = new MutationObserver(function (mutations, observer) {{\n",
              "        var display = window.getComputedStyle(gd).display;\n",
              "        if (!display || display === 'none') {{\n",
              "            console.log([gd, 'removed!']);\n",
              "            Plotly.purge(gd);\n",
              "            observer.disconnect();\n",
              "        }}\n",
              "}});\n",
              "\n",
              "// Listen for the removal of the full notebook cells\n",
              "var notebookContainer = gd.closest('#notebook-container');\n",
              "if (notebookContainer) {{\n",
              "    x.observe(notebookContainer, {childList: true});\n",
              "}}\n",
              "\n",
              "// Listen for the clearing of the current output cell\n",
              "var outputEl = gd.closest('.output');\n",
              "if (outputEl) {{\n",
              "    x.observe(outputEl, {childList: true});\n",
              "}}\n",
              "\n",
              "                        })\n",
              "                };\n",
              "                \n",
              "            </script>\n",
              "        </div>\n",
              "</body>\n",
              "</html>"
            ]
          },
          "metadata": {
            "tags": []
          }
        }
      ]
    },
    {
      "cell_type": "code",
      "metadata": {
        "colab": {
          "base_uri": "https://localhost:8080/",
          "height": 542
        },
        "id": "f4obAZfui-Bc",
        "outputId": "94ea0644-31fc-4dbf-fcca-d9802b594fe1"
      },
      "source": [
        "fig = go.Figure()\n",
        "fig.add_trace(go.Scatter(x=plot_x2, y=dict_plot2[0.1],\n",
        "                    mode='lines',\n",
        "                    name='h = 0.1'))\n",
        "fig.add_trace(go.Scatter(x=plot_x2, y=dict_plot2[0.05],\n",
        "                    mode='lines',\n",
        "                    name='h = 0.05'))\n",
        "fig.add_trace(go.Scatter(x=plot_x2, y=dict_plot2[0.001],\n",
        "                    mode='lines',\n",
        "                    name='h = 0.001'))\n",
        "fig.show()"
      ],
      "execution_count": 36,
      "outputs": [
        {
          "output_type": "display_data",
          "data": {
            "text/html": [
              "<html>\n",
              "<head><meta charset=\"utf-8\" /></head>\n",
              "<body>\n",
              "    <div>\n",
              "            <script src=\"https://cdnjs.cloudflare.com/ajax/libs/mathjax/2.7.5/MathJax.js?config=TeX-AMS-MML_SVG\"></script><script type=\"text/javascript\">if (window.MathJax) {MathJax.Hub.Config({SVG: {font: \"STIX-Web\"}});}</script>\n",
              "                <script type=\"text/javascript\">window.PlotlyConfig = {MathJaxConfig: 'local'};</script>\n",
              "        <script src=\"https://cdn.plot.ly/plotly-latest.min.js\"></script>    \n",
              "            <div id=\"a31d886c-30da-47e5-b731-aafd69757341\" class=\"plotly-graph-div\" style=\"height:525px; width:100%;\"></div>\n",
              "            <script type=\"text/javascript\">\n",
              "                \n",
              "                    window.PLOTLYENV=window.PLOTLYENV || {};\n",
              "                    \n",
              "                if (document.getElementById(\"a31d886c-30da-47e5-b731-aafd69757341\")) {\n",
              "                    Plotly.newPlot(\n",
              "                        'a31d886c-30da-47e5-b731-aafd69757341',\n",
              "                        [{\"mode\": \"lines\", \"name\": \"h = 0.1\", \"type\": \"scatter\", \"x\": [0, 1, 2, 3, 4, 5, 6, 7, 8, 9, 10, 11, 12, 13, 14, 15, 16, 17, 18, 19, 20, 21, 22, 23, 24, 25, 26, 27, 28, 29, 30, 31, 32, 33], \"y\": [397.90165730963935, 151.20428099288682, 22.277863826849806, 1.9033754490513004, 3.9387067562323135, 5.808216814915239, 4.1603247115822395, 4.03740710570542, 4.036886534254946, 4.036380126062121, 4.0358873113111375, 4.035407550330833, 4.034940331627974, 4.0344851700730935, 4.034041605223807, 4.033609199775079, 4.0331875381248805, 4.03277622504425, 4.032374884444949, 4.03198315823547, 4.0316007052569285, 4.0312272002945715, 4.030862333157782, 4.030505807822434, 4.030157341631873, 4.029816664550687, 4.029483518468563, 4.02915765654942, 4.028838842622623, 4.028526850613558, 4.028221464009656, 4.027922475360717, 4.027629685809354, 4.027342904651324]}, {\"mode\": \"lines\", \"name\": \"h = 0.05\", \"type\": \"scatter\", \"x\": [0, 1, 2, 3, 4, 5, 6, 7, 8, 9, 10, 11, 12, 13, 14, 15, 16, 17, 18, 19, 20, 21, 22, 23, 24, 25, 26, 27, 28, 29, 30, 31, 32, 33], \"y\": [395.03663191675366, 149.3556258107768, 21.685358344376322, 2.8105491833278093, 0.6691443388364777, 0.894932195948978, 1.0321422781249197, 1.0048598425493982, 1.0048245366515418, 1.004789737511694, 1.0047554343016665, 1.004721616499222, 1.0046882738778153, 1.0046553964958018, 1.0046229746869282, 1.0045909990510455, 1.0045594604445636, 1.0045283499719397, 1.0044976589774124, 1.0044673790369063, 1.0044375019505103, 1.0044080197348697, 1.0043789246158326, 1.0043502090221486, 1.0043218655785677, 1.004293887100013, 1.0042662665847377, 1.0042389972092087, 1.004212072321778, 1.0041854854381222, 1.0041592302354683, 1.0041333005475825, 1.004107690360233, 1.004082393806401]}, {\"mode\": \"lines\", \"name\": \"h = 0.001\", \"type\": \"scatter\", \"x\": [0, 1, 2, 3, 4, 5, 6, 7, 8, 9, 10, 11, 12, 13, 14, 15, 16, 17, 18, 19, 20, 21, 22, 23, 24, 25, 26, 27, 28, 29, 30, 31, 32, 33], \"y\": [394.0820486465031, 148.74388165920604, 21.47940091101983, 2.7321130920021077, 0.3422936513874401, 0.0428366927727415, 0.005390240936067799, 0.0006695117576675298, 0.00028315544989240913, 0.00030840864600223703, 0.00040240787473872516, 0.00040238623258956774, 0.00040236497399944934, 0.0004023440891671342, 0.00040232356815847334, 0.000402303401463733, 0.00040228358008644516, 0.00040226409518703544, 0.00040224493834995113, 0.00040222610127152144, 0.00040220757618381205, 0.00040218935520784795, 0.00040217143097806833, 0.0003174884874337789, 0.0003799679271116279, 0.00039609258766925437, 0.00039603421928413374, 0.0003959740824588259, 0.00039591209562840954, 0.00039584817205141627, 0.0003957822195033307, 0.00039571413963355377, 0.00039564382772399855, 0.00039557117202686454]}],\n",
              "                        {\"template\": {\"data\": {\"bar\": [{\"error_x\": {\"color\": \"#2a3f5f\"}, \"error_y\": {\"color\": \"#2a3f5f\"}, \"marker\": {\"line\": {\"color\": \"#E5ECF6\", \"width\": 0.5}}, \"type\": \"bar\"}], \"barpolar\": [{\"marker\": {\"line\": {\"color\": \"#E5ECF6\", \"width\": 0.5}}, \"type\": \"barpolar\"}], \"carpet\": [{\"aaxis\": {\"endlinecolor\": \"#2a3f5f\", \"gridcolor\": \"white\", \"linecolor\": \"white\", \"minorgridcolor\": \"white\", \"startlinecolor\": \"#2a3f5f\"}, \"baxis\": {\"endlinecolor\": \"#2a3f5f\", \"gridcolor\": \"white\", \"linecolor\": \"white\", \"minorgridcolor\": \"white\", \"startlinecolor\": \"#2a3f5f\"}, \"type\": \"carpet\"}], \"choropleth\": [{\"colorbar\": {\"outlinewidth\": 0, \"ticks\": \"\"}, \"type\": \"choropleth\"}], \"contour\": [{\"colorbar\": {\"outlinewidth\": 0, \"ticks\": \"\"}, \"colorscale\": [[0.0, \"#0d0887\"], [0.1111111111111111, \"#46039f\"], [0.2222222222222222, \"#7201a8\"], [0.3333333333333333, \"#9c179e\"], [0.4444444444444444, \"#bd3786\"], [0.5555555555555556, \"#d8576b\"], [0.6666666666666666, \"#ed7953\"], [0.7777777777777778, \"#fb9f3a\"], [0.8888888888888888, \"#fdca26\"], [1.0, \"#f0f921\"]], \"type\": \"contour\"}], \"contourcarpet\": [{\"colorbar\": {\"outlinewidth\": 0, \"ticks\": \"\"}, \"type\": \"contourcarpet\"}], \"heatmap\": [{\"colorbar\": {\"outlinewidth\": 0, \"ticks\": \"\"}, \"colorscale\": [[0.0, \"#0d0887\"], [0.1111111111111111, \"#46039f\"], [0.2222222222222222, \"#7201a8\"], [0.3333333333333333, \"#9c179e\"], [0.4444444444444444, \"#bd3786\"], [0.5555555555555556, \"#d8576b\"], [0.6666666666666666, \"#ed7953\"], [0.7777777777777778, \"#fb9f3a\"], [0.8888888888888888, \"#fdca26\"], [1.0, \"#f0f921\"]], \"type\": \"heatmap\"}], \"heatmapgl\": [{\"colorbar\": {\"outlinewidth\": 0, \"ticks\": \"\"}, \"colorscale\": [[0.0, \"#0d0887\"], [0.1111111111111111, \"#46039f\"], [0.2222222222222222, \"#7201a8\"], [0.3333333333333333, \"#9c179e\"], [0.4444444444444444, \"#bd3786\"], [0.5555555555555556, \"#d8576b\"], [0.6666666666666666, \"#ed7953\"], [0.7777777777777778, \"#fb9f3a\"], [0.8888888888888888, \"#fdca26\"], [1.0, \"#f0f921\"]], \"type\": \"heatmapgl\"}], \"histogram\": [{\"marker\": {\"colorbar\": {\"outlinewidth\": 0, \"ticks\": \"\"}}, \"type\": \"histogram\"}], \"histogram2d\": [{\"colorbar\": {\"outlinewidth\": 0, \"ticks\": \"\"}, \"colorscale\": [[0.0, \"#0d0887\"], [0.1111111111111111, \"#46039f\"], [0.2222222222222222, \"#7201a8\"], [0.3333333333333333, \"#9c179e\"], [0.4444444444444444, \"#bd3786\"], [0.5555555555555556, \"#d8576b\"], [0.6666666666666666, \"#ed7953\"], [0.7777777777777778, \"#fb9f3a\"], [0.8888888888888888, \"#fdca26\"], [1.0, \"#f0f921\"]], \"type\": \"histogram2d\"}], \"histogram2dcontour\": [{\"colorbar\": {\"outlinewidth\": 0, \"ticks\": \"\"}, \"colorscale\": [[0.0, \"#0d0887\"], [0.1111111111111111, \"#46039f\"], [0.2222222222222222, \"#7201a8\"], [0.3333333333333333, \"#9c179e\"], [0.4444444444444444, \"#bd3786\"], [0.5555555555555556, \"#d8576b\"], [0.6666666666666666, \"#ed7953\"], [0.7777777777777778, \"#fb9f3a\"], [0.8888888888888888, \"#fdca26\"], [1.0, \"#f0f921\"]], \"type\": \"histogram2dcontour\"}], \"mesh3d\": [{\"colorbar\": {\"outlinewidth\": 0, \"ticks\": \"\"}, \"type\": \"mesh3d\"}], \"parcoords\": [{\"line\": {\"colorbar\": {\"outlinewidth\": 0, \"ticks\": \"\"}}, \"type\": \"parcoords\"}], \"pie\": [{\"automargin\": true, \"type\": \"pie\"}], \"scatter\": [{\"marker\": {\"colorbar\": {\"outlinewidth\": 0, \"ticks\": \"\"}}, \"type\": \"scatter\"}], \"scatter3d\": [{\"line\": {\"colorbar\": {\"outlinewidth\": 0, \"ticks\": \"\"}}, \"marker\": {\"colorbar\": {\"outlinewidth\": 0, \"ticks\": \"\"}}, \"type\": \"scatter3d\"}], \"scattercarpet\": [{\"marker\": {\"colorbar\": {\"outlinewidth\": 0, \"ticks\": \"\"}}, \"type\": \"scattercarpet\"}], \"scattergeo\": [{\"marker\": {\"colorbar\": {\"outlinewidth\": 0, \"ticks\": \"\"}}, \"type\": \"scattergeo\"}], \"scattergl\": [{\"marker\": {\"colorbar\": {\"outlinewidth\": 0, \"ticks\": \"\"}}, \"type\": \"scattergl\"}], \"scattermapbox\": [{\"marker\": {\"colorbar\": {\"outlinewidth\": 0, \"ticks\": \"\"}}, \"type\": \"scattermapbox\"}], \"scatterpolar\": [{\"marker\": {\"colorbar\": {\"outlinewidth\": 0, \"ticks\": \"\"}}, \"type\": \"scatterpolar\"}], \"scatterpolargl\": [{\"marker\": {\"colorbar\": {\"outlinewidth\": 0, \"ticks\": \"\"}}, \"type\": \"scatterpolargl\"}], \"scatterternary\": [{\"marker\": {\"colorbar\": {\"outlinewidth\": 0, \"ticks\": \"\"}}, \"type\": \"scatterternary\"}], \"surface\": [{\"colorbar\": {\"outlinewidth\": 0, \"ticks\": \"\"}, \"colorscale\": [[0.0, \"#0d0887\"], [0.1111111111111111, \"#46039f\"], [0.2222222222222222, \"#7201a8\"], [0.3333333333333333, \"#9c179e\"], [0.4444444444444444, \"#bd3786\"], [0.5555555555555556, \"#d8576b\"], [0.6666666666666666, \"#ed7953\"], [0.7777777777777778, \"#fb9f3a\"], [0.8888888888888888, \"#fdca26\"], [1.0, \"#f0f921\"]], \"type\": \"surface\"}], \"table\": [{\"cells\": {\"fill\": {\"color\": \"#EBF0F8\"}, \"line\": {\"color\": \"white\"}}, \"header\": {\"fill\": {\"color\": \"#C8D4E3\"}, \"line\": {\"color\": \"white\"}}, \"type\": \"table\"}]}, \"layout\": {\"annotationdefaults\": {\"arrowcolor\": \"#2a3f5f\", \"arrowhead\": 0, \"arrowwidth\": 1}, \"coloraxis\": {\"colorbar\": {\"outlinewidth\": 0, \"ticks\": \"\"}}, \"colorscale\": {\"diverging\": [[0, \"#8e0152\"], [0.1, \"#c51b7d\"], [0.2, \"#de77ae\"], [0.3, \"#f1b6da\"], [0.4, \"#fde0ef\"], [0.5, \"#f7f7f7\"], [0.6, \"#e6f5d0\"], [0.7, \"#b8e186\"], [0.8, \"#7fbc41\"], [0.9, \"#4d9221\"], [1, \"#276419\"]], \"sequential\": [[0.0, \"#0d0887\"], [0.1111111111111111, \"#46039f\"], [0.2222222222222222, \"#7201a8\"], [0.3333333333333333, \"#9c179e\"], [0.4444444444444444, \"#bd3786\"], [0.5555555555555556, \"#d8576b\"], [0.6666666666666666, \"#ed7953\"], [0.7777777777777778, \"#fb9f3a\"], [0.8888888888888888, \"#fdca26\"], [1.0, \"#f0f921\"]], \"sequentialminus\": [[0.0, \"#0d0887\"], [0.1111111111111111, \"#46039f\"], [0.2222222222222222, \"#7201a8\"], [0.3333333333333333, \"#9c179e\"], [0.4444444444444444, \"#bd3786\"], [0.5555555555555556, \"#d8576b\"], [0.6666666666666666, \"#ed7953\"], [0.7777777777777778, \"#fb9f3a\"], [0.8888888888888888, \"#fdca26\"], [1.0, \"#f0f921\"]]}, \"colorway\": [\"#636efa\", \"#EF553B\", \"#00cc96\", \"#ab63fa\", \"#FFA15A\", \"#19d3f3\", \"#FF6692\", \"#B6E880\", \"#FF97FF\", \"#FECB52\"], \"font\": {\"color\": \"#2a3f5f\"}, \"geo\": {\"bgcolor\": \"white\", \"lakecolor\": \"white\", \"landcolor\": \"#E5ECF6\", \"showlakes\": true, \"showland\": true, \"subunitcolor\": \"white\"}, \"hoverlabel\": {\"align\": \"left\"}, \"hovermode\": \"closest\", \"mapbox\": {\"style\": \"light\"}, \"paper_bgcolor\": \"white\", \"plot_bgcolor\": \"#E5ECF6\", \"polar\": {\"angularaxis\": {\"gridcolor\": \"white\", \"linecolor\": \"white\", \"ticks\": \"\"}, \"bgcolor\": \"#E5ECF6\", \"radialaxis\": {\"gridcolor\": \"white\", \"linecolor\": \"white\", \"ticks\": \"\"}}, \"scene\": {\"xaxis\": {\"backgroundcolor\": \"#E5ECF6\", \"gridcolor\": \"white\", \"gridwidth\": 2, \"linecolor\": \"white\", \"showbackground\": true, \"ticks\": \"\", \"zerolinecolor\": \"white\"}, \"yaxis\": {\"backgroundcolor\": \"#E5ECF6\", \"gridcolor\": \"white\", \"gridwidth\": 2, \"linecolor\": \"white\", \"showbackground\": true, \"ticks\": \"\", \"zerolinecolor\": \"white\"}, \"zaxis\": {\"backgroundcolor\": \"#E5ECF6\", \"gridcolor\": \"white\", \"gridwidth\": 2, \"linecolor\": \"white\", \"showbackground\": true, \"ticks\": \"\", \"zerolinecolor\": \"white\"}}, \"shapedefaults\": {\"line\": {\"color\": \"#2a3f5f\"}}, \"ternary\": {\"aaxis\": {\"gridcolor\": \"white\", \"linecolor\": \"white\", \"ticks\": \"\"}, \"baxis\": {\"gridcolor\": \"white\", \"linecolor\": \"white\", \"ticks\": \"\"}, \"bgcolor\": \"#E5ECF6\", \"caxis\": {\"gridcolor\": \"white\", \"linecolor\": \"white\", \"ticks\": \"\"}}, \"title\": {\"x\": 0.05}, \"xaxis\": {\"automargin\": true, \"gridcolor\": \"white\", \"linecolor\": \"white\", \"ticks\": \"\", \"title\": {\"standoff\": 15}, \"zerolinecolor\": \"white\", \"zerolinewidth\": 2}, \"yaxis\": {\"automargin\": true, \"gridcolor\": \"white\", \"linecolor\": \"white\", \"ticks\": \"\", \"title\": {\"standoff\": 15}, \"zerolinecolor\": \"white\", \"zerolinewidth\": 2}}}},\n",
              "                        {\"responsive\": true}\n",
              "                    ).then(function(){\n",
              "                            \n",
              "var gd = document.getElementById('a31d886c-30da-47e5-b731-aafd69757341');\n",
              "var x = new MutationObserver(function (mutations, observer) {{\n",
              "        var display = window.getComputedStyle(gd).display;\n",
              "        if (!display || display === 'none') {{\n",
              "            console.log([gd, 'removed!']);\n",
              "            Plotly.purge(gd);\n",
              "            observer.disconnect();\n",
              "        }}\n",
              "}});\n",
              "\n",
              "// Listen for the removal of the full notebook cells\n",
              "var notebookContainer = gd.closest('#notebook-container');\n",
              "if (notebookContainer) {{\n",
              "    x.observe(notebookContainer, {childList: true});\n",
              "}}\n",
              "\n",
              "// Listen for the clearing of the current output cell\n",
              "var outputEl = gd.closest('.output');\n",
              "if (outputEl) {{\n",
              "    x.observe(outputEl, {childList: true});\n",
              "}}\n",
              "\n",
              "                        })\n",
              "                };\n",
              "                \n",
              "            </script>\n",
              "        </div>\n",
              "</body>\n",
              "</html>"
            ]
          },
          "metadata": {
            "tags": []
          }
        }
      ]
    },
    {
      "cell_type": "markdown",
      "metadata": {
        "id": "AJm_aHlTdDuw"
      },
      "source": [
        "*Три криві, які можна побачити на вищеподаних графіках, демострують збіжність МНК Гауса-Ньютона при h=0.1, h=0.05, h=0.001.* Слід зазначити, що в якості критерію закінчення було взято критерій закінчення №2 (норма градієнта функції в точці). Похідні було обчислено в першому випадку (перший графік) за правою схемою, а в другому випадку (другий графік) за центральною схемою.\n"
      ]
    },
    {
      "cell_type": "markdown",
      "metadata": {
        "id": "Mhqlvid_SibR"
      },
      "source": [
        "Як видно, у другому випадку характер збіжності від зміни значень h майже не змінюється."
      ]
    },
    {
      "cell_type": "markdown",
      "metadata": {
        "id": "nXDttNOxg6GB"
      },
      "source": [
        "*Примітка.* Всі параметри взято для прикладу, можна було б розглядати й інші значення."
      ]
    },
    {
      "cell_type": "markdown",
      "metadata": {
        "id": "1VyVpIsNuEzP"
      },
      "source": [
        "**Також, нижче наведено три порівняльних діаграми, що демонструють швидкість збіжності методу найменших квадратів Гауса-Ньютона в залежності від обраної точності обчислення.**"
      ]
    },
    {
      "cell_type": "markdown",
      "metadata": {
        "id": "RKLqDA76vCTc"
      },
      "source": [
        "*Слід зазначити*, що дані діаграми відрізняються обраним значенням h: в першому випадку h=0.0001, у другому - h=0.00001, у третьому - h=0.000001."
      ]
    },
    {
      "cell_type": "code",
      "metadata": {
        "colab": {
          "base_uri": "https://localhost:8080/",
          "height": 282
        },
        "id": "WprxI1Hfs__E",
        "outputId": "da4f6438-763c-44da-9102-77df0732af37"
      },
      "source": [
        "eps_name = ['0.1', '0.01', '0.001', '0.0001', '0.00001']\n",
        "plt.bar(eps_name, itr_lst1, color='green')\n",
        "plt.xlabel(\"Точність обчислення точки мінімума при h=0.0001\")\n",
        "plt.ylabel(\"Кількість ітерацій\")\n",
        "plt.show()"
      ],
      "execution_count": 37,
      "outputs": [
        {
          "output_type": "display_data",
          "data": {
            "image/png": "[encoded data removed]",
            "text/plain": [
              "<Figure size 432x288 with 1 Axes>"
            ]
          },
          "metadata": {
            "tags": [],
            "needs_background": "light"
          }
        }
      ]
    },
    {
      "cell_type": "code",
      "metadata": {
        "colab": {
          "base_uri": "https://localhost:8080/",
          "height": 282
        },
        "id": "RTDzX1rxy2ji",
        "outputId": "9d586034-8e89-4683-b695-87cd861d435f"
      },
      "source": [
        "plt.bar(eps_name, itr_lst2, color='orange')\n",
        "plt.xlabel(\"Точність обчислення точки мінімума при h=0.00001\")\n",
        "plt.ylabel(\"Кількість ітерацій\")\n",
        "plt.show()"
      ],
      "execution_count": 38,
      "outputs": [
        {
          "output_type": "display_data",
          "data": {
            "image/png": "[encoded data removed]",
            "text/plain": [
              "<Figure size 432x288 with 1 Axes>"
            ]
          },
          "metadata": {
            "tags": [],
            "needs_background": "light"
          }
        }
      ]
    },
    {
      "cell_type": "code",
      "metadata": {
        "colab": {
          "base_uri": "https://localhost:8080/",
          "height": 282
        },
        "id": "7aqDH8APzKZQ",
        "outputId": "393221e9-e718-4c80-955d-1ae01340d87b"
      },
      "source": [
        "plt.bar(eps_name, itr_lst3, color='blue')\n",
        "plt.xlabel(\"Точність обчислення точки мінімума при h=0.000001\")\n",
        "plt.ylabel(\"Кількість ітерацій\")\n",
        "plt.show()"
      ],
      "execution_count": 39,
      "outputs": [
        {
          "output_type": "display_data",
          "data": {
            "image/png": "[encoded data removed]",
            "text/plain": [
              "<Figure size 432x288 with 1 Axes>"
            ]
          },
          "metadata": {
            "tags": [],
            "needs_background": "light"
          }
        }
      ]
    },
    {
      "cell_type": "markdown",
      "metadata": {
        "id": "UmsRMhTQ1CYM"
      },
      "source": [
        "*На даних діаграмах можна спостерігати таку закономірність*, що при достатньому зменьшенні значення h можна досягти достатньо високої швидкості збільшення навіть при дуже малій обраній точності. При цьому, *точність $\\varepsilon$=0.001 досягається досить швидко в усіх трьох випадках*, а *точність $\\varepsilon$=0.01 взагалі майже з однаковою швидкістю при даних значеннях h*."
      ]
    },
    {
      "cell_type": "markdown",
      "metadata": {
        "id": "seZc9iKk2VUh"
      },
      "source": [
        "*Примітка*. При знаходженні значень для побудови даних стовбчастих діаграм було використано праву схему обчислення похідних. В якості критерію закінчення було взято критерій №2 (норма градієнта функції в точці). На кількість ітерацій накладалось обмеження в 1000 ітерацій. "
      ]
    },
    {
      "cell_type": "markdown",
      "metadata": {
        "id": "yPSXDbfEo85p"
      },
      "source": [
        "**Скориставшись методом штрафних функцій, а саме - методом зовнішньої точки, для умовної оптимізації функції Розенброка дійшли до певних результатів.**"
      ]
    },
    {
      "cell_type": "markdown",
      "metadata": {
        "id": "V6xWkq9MrAj2"
      },
      "source": [
        "*1. У випадку розташування локального мінімума всередині допустимої області, яка є випуклою областю*, отримано наступне: "
      ]
    },
    {
      "cell_type": "markdown",
      "metadata": {
        "id": "3HawueL40zSY"
      },
      "source": [
        "*Область*: $x_1^2 + x_2^2 \\leq 4$"
      ]
    },
    {
      "cell_type": "markdown",
      "metadata": {
        "id": "mzbxeu4c4UYx"
      },
      "source": [
        "*Початкова точка*: $ x^{(0)} = \n",
        "\\begin{pmatrix}\n",
        "  -2 \\\\\n",
        "  -2\n",
        " \\end{pmatrix}$"
      ]
    },
    {
      "cell_type": "markdown",
      "metadata": {
        "id": "O_kh9Ia_65tZ"
      },
      "source": [
        "![1.jpg](data:image/jpeg;base64,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)"
      ]
    },
    {
      "cell_type": "code",
      "metadata": {
        "colab": {
          "base_uri": "https://localhost:8080/"
        },
        "id": "P7_7rDwLsHEq",
        "outputId": "e9fc405d-81d6-4686-d1fe-74acc348d0e7"
      },
      "source": [
        "print(f'При h={h1} мінімум функції f(x_min) = {f1}  в точці x_min = {xmin1} на {it1} ітерації.')\n",
        "print(f'При h={h1} мінімум функції f(x_min) = {f1_2}  в точці x_min = {xmin1_2} на {it1_2} ітерації.')"
      ],
      "execution_count": 40,
      "outputs": [
        {
          "output_type": "stream",
          "text": [
            "При h=0.0001 мінімум функції f(x_min) = 2.2860772952444163e-10  в точці x_min = [1.0000005  1.00000252] на 214 ітерації.\n",
            "При h=0.0001 мінімум функції f(x_min) = 2.2863000705109632e-10  в точці x_min = [1.0000005  1.00000252] на 228 ітерації.\n"
          ],
          "name": "stdout"
        }
      ]
    },
    {
      "cell_type": "markdown",
      "metadata": {
        "id": "8O2_mob1vrU6"
      },
      "source": [
        "*2. У випадку розташування локального мінімума поза допустимою областю, яка є випуклою областю*, отримано такі результати: "
      ]
    },
    {
      "cell_type": "markdown",
      "metadata": {
        "id": "LB5pQmb-41Ag"
      },
      "source": [
        "*Область*: $x_1^2 + x_2^2 \\leq 1$"
      ]
    },
    {
      "cell_type": "markdown",
      "metadata": {
        "id": "_38x0VRj47mg"
      },
      "source": [
        "*Початкова точка*: $ x^{(0)} = \n",
        "\\begin{pmatrix}\n",
        "  -2 \\\\\n",
        "  -2\n",
        " \\end{pmatrix}$"
      ]
    },
    {
      "cell_type": "markdown",
      "metadata": {
        "id": "KK7b7YNf4-Lw"
      },
      "source": [
        "![2.jpg](data:image/jpeg;base64,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)"
      ]
    },
    {
      "cell_type": "code",
      "metadata": {
        "colab": {
          "base_uri": "https://localhost:8080/"
        },
        "id": "viYyJu8UvzZ-",
        "outputId": "47ffdf22-ced5-453e-8a01-0a8d584ffa5c"
      },
      "source": [
        "print(f'При h={h1} мінімум функції f(x_min) = {f2}  в точці x_min = {xmin2} на {it2} ітерації.')\n",
        "print(f'При h={h1} мінімум функції f(x_min) = {f2_2}  в точці x_min = {xmin2_2} на {it2_2} ітерації.')"
      ],
      "execution_count": 41,
      "outputs": [
        {
          "output_type": "stream",
          "text": [
            "При h=0.0001 мінімум функції f(x_min) = 2.2848458338551188e-10  в точці x_min = [1.0000005  1.00000252] на 220 ітерації.\n",
            "При h=0.0001 мінімум функції f(x_min) = 2.2848458345260184e-10  в точці x_min = [1.0000005  1.00000252] на 220 ітерації.\n"
          ],
          "name": "stdout"
        }
      ]
    },
    {
      "cell_type": "markdown",
      "metadata": {
        "id": "Lmbz63_3wMTS"
      },
      "source": [
        "*3. У випадку розташування локального мінімума в допустимій області, яка є невипуклою областю*, було отримано нижченаведені результати: "
      ]
    },
    {
      "cell_type": "markdown",
      "metadata": {
        "id": "zEdXeBx94_-I"
      },
      "source": [
        "*Область*: $\\begin{cases}\n",
        "    x_1^2 + x_2^2 \\geq 1\\\\\n",
        "    x_1^2 + x_2^2 \\leq 4\n",
        "  \\end{cases}$"
      ]
    },
    {
      "cell_type": "markdown",
      "metadata": {
        "id": "hYRmtsd45AkC"
      },
      "source": [
        "*Початкова точка*: $ x^{(0)} = \n",
        "\\begin{pmatrix}\n",
        "  -2 \\\\\n",
        "  -2\n",
        " \\end{pmatrix}$"
      ]
    },
    {
      "cell_type": "markdown",
      "metadata": {
        "id": "-x2BjoM2-dtV"
      },
      "source": [
        "![3.jpg](data:image/jpeg;base64,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)"
      ]
    },
    {
      "cell_type": "code",
      "metadata": {
        "colab": {
          "base_uri": "https://localhost:8080/"
        },
        "id": "OuPLrPzswM3l",
        "outputId": "459c5cf5-aa36-4f05-e4c3-8c4349ea5835"
      },
      "source": [
        "print(f'При h={h1} мінімум функції f(x_min) = {f3}  в точці x_min = {xmin3} на {it3} ітерації.')\n",
        "print(f'При h={h1} мінімум функції f(x_min) = {f3_2}  в точці x_min = {xmin3_2} на {it3_2} ітерації.')"
      ],
      "execution_count": 42,
      "outputs": [
        {
          "output_type": "stream",
          "text": [
            "При h=0.0001 мінімум функції f(x_min) = 2.267289045760043e-10  в точці x_min = [1.0000005  1.00000251] на 222 ітерації.\n",
            "При h=0.0001 мінімум функції f(x_min) = 2.267289045760043e-10  в точці x_min = [1.0000005  1.00000251] на 222 ітерації.\n"
          ],
          "name": "stdout"
        }
      ]
    },
    {
      "cell_type": "markdown",
      "metadata": {
        "id": "JhVlKV_KwNhP"
      },
      "source": [
        "*4. У випадку розташування локального мінімума за допустимою областю, яка є невипуклою областю*, було отримано наступні результати: "
      ]
    },
    {
      "cell_type": "markdown",
      "metadata": {
        "id": "NbaqATio7XnW"
      },
      "source": [
        "*Область*: $\\begin{cases}\n",
        "    x_1^2 + x_2^2 \\leq 1\\\\\n",
        "    x_1^2 + x_2^2 \\geq 0.25\n",
        "  \\end{cases}$"
      ]
    },
    {
      "cell_type": "markdown",
      "metadata": {
        "id": "RzHitPTr7Ya2"
      },
      "source": [
        "*Початкова точка*: $ x^{(0)} = \n",
        "\\begin{pmatrix}\n",
        "  -2 \\\\\n",
        "  -2\n",
        " \\end{pmatrix}$"
      ]
    },
    {
      "cell_type": "markdown",
      "metadata": {
        "id": "H062M0XU99Si"
      },
      "source": [
        "![4.jpg](data:image/jpeg;base64,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)"
      ]
    },
    {
      "cell_type": "code",
      "metadata": {
        "colab": {
          "base_uri": "https://localhost:8080/"
        },
        "id": "trp1WOUtwOG1",
        "outputId": "7201b8e4-4e5d-4d1a-ef9f-3dfad1a17570"
      },
      "source": [
        "print(f'При h={h1} мінімум функції f(x_min) = {f4}  в точці x_min = {xmin4} на {it4} ітерації.')\n",
        "print(f'При h={h1} мінімум функції f(x_min) = {f4_2}  в точці x_min = {xmin4_2} на {it4_2} ітерації.')"
      ],
      "execution_count": 43,
      "outputs": [
        {
          "output_type": "stream",
          "text": [
            "При h=0.0001 мінімум функції f(x_min) = 2.267289045760043e-10  в точці x_min = [1.0000005  1.00000251] на 222 ітерації.\n",
            "При h=0.0001 мінімум функції f(x_min) = 2.267289045760043e-10  в точці x_min = [1.0000005  1.00000251] на 222 ітерації.\n"
          ],
          "name": "stdout"
        }
      ]
    },
    {
      "cell_type": "markdown",
      "metadata": {
        "id": "JY20Ao9SwOkb"
      },
      "source": [
        "В усіх чотирьох вищенаведених випадках було застосовано праву схему обчислення похідних та крок h=0.0001. При цьому, точність було взято $\\varepsilon$ = 0.01. Початкове значення параметру R дорівнює 1 або 10 (в кожному підпункті відмічено результати відносно обох випадків: коли R=1 та коли R=10), а початкова точка х = [-2;-2]."
      ]
    },
    {
      "cell_type": "markdown",
      "metadata": {
        "id": "PgT67G1AInlY"
      },
      "source": [
        "## Висновки"
      ]
    },
    {
      "cell_type": "markdown",
      "metadata": {
        "id": "GBfSZuf06C03"
      },
      "source": [
        "*В даній курсовій роботі потрібно було* ***дослідити збіжність методу найменших квадратів Гауса-Ньютона при мінімізації функції Розенброка***."
      ]
    },
    {
      "cell_type": "markdown",
      "metadata": {
        "id": "MFTsDQ5t6fC-"
      },
      "source": [
        "*Досліджуючи цей метод в залежності від значення кроку h*, який використовуєтся у обчисленні похідних, *було виявлено*, що *при зменшенні значення кроку h збіжність методу прискорюється*. Особливо помітно це стало на моменті порівняння збіжності при h=0.0001 та h=0.00001 (за умови однакової точності та однакової схеми обчислення похідних, в даному випадку правої схеми), оскільки при першому значенні h точку мінімума було знайдено на 149 ітерації, в той час як при другому значенні h було досягнуто точки мінімума на 17 ітерації."
      ]
    },
    {
      "cell_type": "markdown",
      "metadata": {
        "id": "rtpp8a_87y9d"
      },
      "source": [
        "Що стосується результатів, отриманих *при застосуванні модифікації Левенберга-Марквардта*, то за умови обрання тих самих параметрів (точність $\\varepsilon$, крок h, схема обчислення похідних), що і у попередньому варіанті, *отримали нижчу швидкість збіжності, ніж в МНК Гауса-Ньютона*. Також слід відмітити, що *крок h майже не впливає на результати збіжності при використанні модифікації Левенберга-Марквардта*."
      ]
    },
    {
      "cell_type": "markdown",
      "metadata": {
        "id": "Y1ocXFzM7zUG"
      },
      "source": [
        "Також була розглянута *збіжність МНК Гауса-Ньютона в залежності від схеми обчислення похідних*. *Застосування правої схеми обчислення похідних* при використанні даного методу для знаходження точки мінімума *дало нам*, як було зазначено трохи вище, *наступний результат*: при зменшенні кроку h пришвидшується збіжність методу. *Що ж стосується застосування центральної схеми обчислення похідних*, то маємо наступну ситуацію: зміна значень h не впливає на швидкість збіжності, маємо однакову кількість ітерацій, за які було досягнуто точки мінімума. Це наглядно видно на виконаних випробуваннях: при h=0.0001, h=0.00001 та h=0.000001 метод збігся на 21 ітерації. Можна сказати, що *за використання правої схеми обчислення похідних МНК Гауса-Ньютона збігається до точки мінімума швидше, ніж за використання центральної схеми обчислення похідних*."
      ]
    },
    {
      "cell_type": "markdown",
      "metadata": {
        "id": "A32YZJ2XICj6"
      },
      "source": [
        "Останнім, відносно чого потрібно було дослідити збіжність МНК Гауса-Ньютона, є вигляд критерію закінчення. Слід зазначити, що було використано два критерії закінчення."
      ]
    },
    {
      "cell_type": "markdown",
      "metadata": {
        "id": "mxFaorZ_zm2H"
      },
      "source": [
        "Критерій закінчення №1: $$  \\begin{cases}\n",
        "    \\frac{\\|x^{(k-1)} - x^{(k)}\\|}{\\|x^{(k)}\\|} \\leq \\varepsilon \\\\     \n",
        "    \\frac{|f(x^{(k-1)}) - f(x^{(k)})|}{|f(x^{(k)})|} \\leq \\varepsilon\n",
        "  \\end{cases} $$"
      ]
    },
    {
      "cell_type": "markdown",
      "metadata": {
        "id": "4L6f0ypEMg9-"
      },
      "source": [
        "Критерій закінчення №2: $$ \\|\\nabla f(x^{(k)})\\| \\leq \\varepsilon $$"
      ]
    },
    {
      "cell_type": "markdown",
      "metadata": {
        "id": "9VGssFMUJXV-"
      },
      "source": [
        "Враховуючи отримані результати при використанні обох критеріїв закінчення прийшли до висновку, що з критерієм закінчення №2 метод досягає точки мінімума значно швидше, в нашому випадку - трохи більше ніж в 2 рази (з критерієм закінчення №1 на 53 ітерації, а з критерієм закінчення №2 на 24 ітерації). Також, слід відмітити той факт, що хоч за критерієм закінчення №1 пошук точки мінімума відбувається довше, проте результат отримуємо ледь помітно, але все ж точніший."
      ]
    },
    {
      "cell_type": "markdown",
      "metadata": {
        "id": "mEMtM1LQPy2F"
      },
      "source": [
        "Тож можна зробити загальний висновок, що метод найменших квадратів Гауса-Ньютона володіє дуже високою швидкістю збіжності."
      ]
    },
    {
      "cell_type": "markdown",
      "metadata": {
        "id": "hwe-6BwkhOBK"
      },
      "source": [
        "Візуалізацію збіжності методу найменших квадратів Гауса-Ньютона продемонстровано на графіку у розділі ***Відображення результатів***."
      ]
    },
    {
      "cell_type": "markdown",
      "metadata": {
        "id": "WSyukAHS4k0V"
      },
      "source": [
        "В тому ж розділі (***Відображення результатів***) зображено залежність збіжності методу найменших квадратів Гауса-Ньютона від обраної точності знаходження точки мінімума."
      ]
    },
    {
      "cell_type": "markdown",
      "metadata": {
        "id": "jccE3Oqv3x-H"
      },
      "source": [
        "*Наступний момент, відносно якого було проведено дослідження у даній курсовій роботі, - це **умовна оптимізація з використанням методу штрафних функцій, а саме методу зовнішньої точки**.*"
      ]
    },
    {
      "cell_type": "markdown",
      "metadata": {
        "id": "J729-bXIdfb5"
      },
      "source": [
        "Як видно з усіх отриманих результатів при застосуванні методу зовнішньої точки під час умовної оптимізації, маємо досить цікаві факти: *в усіх 4 випадках отримали майже однакову точку мінімума*. *У випадку, коли параметр R=1, а  локальний мінімум знаходиться всередині області, яка є випуклою, - маємо найшвидшу збіжність* (214 ітерацій, що у порівнянні з рештою випадків на 6-8 ітерацій менше), в той час як в решті випадків швидкість збіжності майже на одному рівні. *Щодо обрання параметру R, то в даному випадку R=1 є оптимальним значенням*."
      ]
    },
    {
      "cell_type": "markdown",
      "metadata": {
        "id": "A2hCpDapfRZS"
      },
      "source": [
        "*Також слід відмітити, що у випадку вирішення задачі умовної оптимізації (метод зовнішньої точки + МНК Гауса-Ньютона) швидкість збіжності до точки мінімума значно менша* (більше, ніж 200 ітерацій) *на відміну від випадку вирішення задачі безумовної оптимізації (МНК Гауса-Ньютона)*, де швидкість збіжності в більшості випадків 20-30 ітерацій. Проте, *при застосуванні модифікації Левенберга-Марквардта маємо приблизно таку ж швидкість збіжності, як і у методі зовнішньої точки*. "
      ]
    },
    {
      "cell_type": "markdown",
      "metadata": {
        "id": "iEbNXiqmTTh0"
      },
      "source": [
        "## Про виконавця"
      ]
    },
    {
      "cell_type": "markdown",
      "metadata": {
        "id": "mLedG4iETTh0"
      },
      "source": [
        "***Краснянська Єлизавета, група КМ-83***\n",
        "\n",
        "\n"
      ]
    },
    {
      "cell_type": "markdown",
      "metadata": {
        "id": "_mxhu72mf9Sn"
      },
      "source": [
        "**Контактний номер**: 0997170599"
      ]
    },
    {
      "cell_type": "markdown",
      "metadata": {
        "id": "L9RwNzwShNsp"
      },
      "source": [
        "**E-mail**: lizahtconex@gmail.com"
      ]
    },
    {
      "cell_type": "markdown",
      "metadata": {
        "id": "6C25CbDQI6FQ"
      },
      "source": [
        "## Посилання "
      ]
    },
    {
      "cell_type": "markdown",
      "metadata": {
        "id": "Te2Nwh6H_UFi"
      },
      "source": [
        "***Список джерел, які було використано під час виконання даної курсової роботи:***\n",
        "\n",
        "\n",
        "1.   http://www.machinelearning.ru/wiki/index.php?title=Метод_Ньютона-Гаусса\n",
        "2.   https://www.youtube.com/watch?v=L4GsUdtjSaA&list=PLaf5k0VHJogKMvclpJpVno78iHxLk_ZL6&index=9\n",
        "3.   https://habr.com/ru/post/308626/\n",
        "4.   https://ru.wikipedia.org/wiki/Функция_Розенброка\n",
        "5.   https://ru.wikipedia.org/wiki/Алгоритм_Левенберга_—_Марквардта\n",
        "6.   http://www.math.nsc.ru/LBRT/k5/MO/lecture14.pdf\n",
        "7.   https://www.youtube.com/watch?v=aacQDmTIIKA&list=PL7gJDv3ibRSg-h6KWuTOEwc77yEXw84OA&index=10&t=939s\n",
        "8.   https://www.youtube.com/watch?v=IZNJxkEI85I&list=PL7gJDv3ibRSg-h6KWuTOEwc77yEXw84OA&index=13\n",
        "9.   https://life-prog.ru/1_7602_metod-vneshney-tochki.html\n",
        "\n",
        "\n",
        "\n"
      ]
    }
  ]
}